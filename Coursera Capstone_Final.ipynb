{
    "cells": [
        {
            "cell_type": "markdown",
            "metadata": {
                "collapsed": true
            },
            "source": "This notebook will be mainly used for the Capstone Project for the final module of the IBM Data Science Professional Certificate."
        },
        {
            "cell_type": "code",
            "execution_count": 1,
            "metadata": {},
            "outputs": [
                {
                    "name": "stdout",
                    "output_type": "stream",
                    "text": "Hello Capstone Project Course!\n"
                }
            ],
            "source": "import pandas as pd\nimport numpy as np\nprint (\"Hello Capstone Project Course!\")"
        },
        {
            "cell_type": "code",
            "execution_count": 2,
            "metadata": {},
            "outputs": [
                {
                    "data": {
                        "text/html": "<div>\n<style scoped>\n    .dataframe tbody tr th:only-of-type {\n        vertical-align: middle;\n    }\n\n    .dataframe tbody tr th {\n        vertical-align: top;\n    }\n\n    .dataframe thead th {\n        text-align: right;\n    }\n</style>\n<table border=\"1\" class=\"dataframe\">\n  <thead>\n    <tr style=\"text-align: right;\">\n      <th></th>\n      <th>REPORT_ID</th>\n      <th>Stats Area</th>\n      <th>Suburb</th>\n      <th>Postcode</th>\n      <th>LGA Name</th>\n      <th>Total Units</th>\n      <th>Total Cas</th>\n      <th>Total Fats</th>\n      <th>Total SI</th>\n      <th>Total MI</th>\n      <th>...</th>\n      <th>Crash Type</th>\n      <th>Unit Resp</th>\n      <th>Entity Code</th>\n      <th>CSEF Severity</th>\n      <th>Traffic Ctrls</th>\n      <th>DUI Involved</th>\n      <th>Drugs Involved</th>\n      <th>ACCLOC_X</th>\n      <th>ACCLOC_Y</th>\n      <th>UNIQUE_LOC</th>\n    </tr>\n  </thead>\n  <tbody>\n    <tr>\n      <th>0</th>\n      <td>2019-1-8/07/2020</td>\n      <td>2 Metropolitan</td>\n      <td>HAMPSTEAD GARDENS</td>\n      <td>5086</td>\n      <td>CITY OF PORT ADELAIDE ENFIELD</td>\n      <td>2</td>\n      <td>0</td>\n      <td>0</td>\n      <td>0</td>\n      <td>0</td>\n      <td>...</td>\n      <td>Right Angle</td>\n      <td>1</td>\n      <td>Driver Rider</td>\n      <td>1: PDO</td>\n      <td>Give Way Sign</td>\n      <td>NaN</td>\n      <td>NaN</td>\n      <td>1331810.03</td>\n      <td>1676603.26</td>\n      <td>13318101676603</td>\n    </tr>\n    <tr>\n      <th>1</th>\n      <td>2019-2-8/07/2020</td>\n      <td>2 Metropolitan</td>\n      <td>DRY CREEK</td>\n      <td>5094</td>\n      <td>CITY OF SALISBURY</td>\n      <td>2</td>\n      <td>0</td>\n      <td>0</td>\n      <td>0</td>\n      <td>0</td>\n      <td>...</td>\n      <td>Rear End</td>\n      <td>2</td>\n      <td>Driver Rider</td>\n      <td>1: PDO</td>\n      <td>No Control</td>\n      <td>NaN</td>\n      <td>NaN</td>\n      <td>1328376.20</td>\n      <td>1682942.63</td>\n      <td>13283761682943</td>\n    </tr>\n    <tr>\n      <th>2</th>\n      <td>2019-3-8/07/2020</td>\n      <td>2 Metropolitan</td>\n      <td>MILE END</td>\n      <td>5031</td>\n      <td>CITY OF WEST TORRENS</td>\n      <td>2</td>\n      <td>1</td>\n      <td>0</td>\n      <td>0</td>\n      <td>1</td>\n      <td>...</td>\n      <td>Hit Pedestrian</td>\n      <td>1</td>\n      <td>Driver Rider</td>\n      <td>2: MI</td>\n      <td>No Control</td>\n      <td>NaN</td>\n      <td>NaN</td>\n      <td>1325819.68</td>\n      <td>1670994.26</td>\n      <td>13258201670994</td>\n    </tr>\n    <tr>\n      <th>3</th>\n      <td>2019-4-8/07/2020</td>\n      <td>2 Metropolitan</td>\n      <td>PARALOWIE</td>\n      <td>5108</td>\n      <td>CITY OF SALISBURY</td>\n      <td>2</td>\n      <td>1</td>\n      <td>0</td>\n      <td>1</td>\n      <td>0</td>\n      <td>...</td>\n      <td>Hit Fixed Object</td>\n      <td>1</td>\n      <td>Driver Rider</td>\n      <td>3: SI</td>\n      <td>No Control</td>\n      <td>NaN</td>\n      <td>NaN</td>\n      <td>1328320.60</td>\n      <td>1690237.08</td>\n      <td>13283211690237</td>\n    </tr>\n    <tr>\n      <th>4</th>\n      <td>2019-5-8/07/2020</td>\n      <td>2 Metropolitan</td>\n      <td>MOUNT BARKER</td>\n      <td>5251</td>\n      <td>DC MT.BARKER.</td>\n      <td>2</td>\n      <td>0</td>\n      <td>0</td>\n      <td>0</td>\n      <td>0</td>\n      <td>...</td>\n      <td>Hit Animal</td>\n      <td>2</td>\n      <td>Animal</td>\n      <td>1: PDO</td>\n      <td>No Control</td>\n      <td>NaN</td>\n      <td>NaN</td>\n      <td>1353279.99</td>\n      <td>1655645.15</td>\n      <td>13532801655645</td>\n    </tr>\n  </tbody>\n</table>\n<p>5 rows \u00d7 33 columns</p>\n</div>",
                        "text/plain": "          REPORT_ID      Stats Area             Suburb  Postcode  \\\n0  2019-1-8/07/2020  2 Metropolitan  HAMPSTEAD GARDENS      5086   \n1  2019-2-8/07/2020  2 Metropolitan          DRY CREEK      5094   \n2  2019-3-8/07/2020  2 Metropolitan           MILE END      5031   \n3  2019-4-8/07/2020  2 Metropolitan          PARALOWIE      5108   \n4  2019-5-8/07/2020  2 Metropolitan       MOUNT BARKER      5251   \n\n                         LGA Name  Total Units  Total Cas  Total Fats  \\\n0   CITY OF PORT ADELAIDE ENFIELD            2          0           0   \n1               CITY OF SALISBURY            2          0           0   \n2            CITY OF WEST TORRENS            2          1           0   \n3               CITY OF SALISBURY            2          1           0   \n4  DC MT.BARKER.                             2          0           0   \n\n   Total SI  Total MI  ...        Crash Type Unit Resp   Entity Code  \\\n0         0         0  ...       Right Angle         1  Driver Rider   \n1         0         0  ...          Rear End         2  Driver Rider   \n2         0         1  ...    Hit Pedestrian         1  Driver Rider   \n3         1         0  ...  Hit Fixed Object         1  Driver Rider   \n4         0         0  ...        Hit Animal         2        Animal   \n\n  CSEF Severity  Traffic Ctrls DUI Involved Drugs Involved    ACCLOC_X  \\\n0        1: PDO  Give Way Sign          NaN            NaN  1331810.03   \n1        1: PDO     No Control          NaN            NaN  1328376.20   \n2         2: MI     No Control          NaN            NaN  1325819.68   \n3         3: SI     No Control          NaN            NaN  1328320.60   \n4        1: PDO     No Control          NaN            NaN  1353279.99   \n\n     ACCLOC_Y      UNIQUE_LOC  \n0  1676603.26  13318101676603  \n1  1682942.63  13283761682943  \n2  1670994.26  13258201670994  \n3  1690237.08  13283211690237  \n4  1655645.15  13532801655645  \n\n[5 rows x 33 columns]"
                    },
                    "execution_count": 2,
                    "metadata": {},
                    "output_type": "execute_result"
                }
            ],
            "source": "#The code below imports the data set for SA Crashes 2019\nimport types\nimport pandas as pd\nfrom botocore.client import Config\nimport ibm_boto3\n\ndef __iter__(self): return 0\n\n# The following code accesses a file in your IBM Cloud Object Storage. It includes your credentials.\n# You might want to remove those credentials before you share the notebook.\nclient_59b31594f5cc4c1ea7cc2d997f2a6077 = ibm_boto3.client(service_name='s3',\n    ibm_api_key_id='jWYMftPiAiF-SYoymEY4A6SyuJp6bJb5E21g91yAZ5KX',\n    ibm_auth_endpoint=\"https://iam.cloud.ibm.com/oidc/token\",\n    config=Config(signature_version='oauth'),\n    endpoint_url='https://s3.ap-geo.objectstorage.service.networklayer.com')\n\nbody = client_59b31594f5cc4c1ea7cc2d997f2a6077.get_object(Bucket='courseracapstone-donotdelete-pr-mcqilmhdsobnfo',Key='2019_DATA_SA_Crash.csv')['Body']\n# add missing __iter__ method, so pandas accepts body as file-like object\nif not hasattr(body, \"__iter__\"): body.__iter__ = types.MethodType( __iter__, body )\n\ndf= pd.read_csv(body)\ndf.head()"
        },
        {
            "cell_type": "markdown",
            "metadata": {},
            "source": "Loading all libraries required for this project"
        },
        {
            "cell_type": "code",
            "execution_count": 3,
            "metadata": {},
            "outputs": [],
            "source": "#Load all libraries we will require for the data analysis, cleaning and model building \nimport itertools\nimport numpy as np\nimport matplotlib.pyplot as plt\nfrom matplotlib.ticker import NullFormatter\nimport pandas as pd\nimport numpy as np\nimport matplotlib.ticker as ticker\nfrom sklearn import preprocessing\n%matplotlib inline"
        },
        {
            "cell_type": "code",
            "execution_count": 4,
            "metadata": {},
            "outputs": [],
            "source": "#Import the required functions to create a Decision Tree Model\nfrom sklearn.model_selection import train_test_split\nfrom sklearn.tree import DecisionTreeClassifier\nfrom sklearn import metrics"
        },
        {
            "cell_type": "code",
            "execution_count": 5,
            "metadata": {},
            "outputs": [],
            "source": "#Import Model Evaluation Metrics\nfrom sklearn.metrics import jaccard_similarity_score\nfrom sklearn.metrics import f1_score\nfrom sklearn.metrics import log_loss"
        },
        {
            "cell_type": "code",
            "execution_count": 6,
            "metadata": {},
            "outputs": [
                {
                    "name": "stdout",
                    "output_type": "stream",
                    "text": "Solving environment: done\n\n# All requested packages already installed.\n\n"
                }
            ],
            "source": "#Instal Seaborn Package\n!conda install -c anaconda seaborn -y"
        },
        {
            "cell_type": "code",
            "execution_count": 7,
            "metadata": {},
            "outputs": [],
            "source": "#Import Seaborn Library for Data Visualization and Pre-Processing\nimport seaborn as sns"
        },
        {
            "cell_type": "markdown",
            "metadata": {},
            "source": "Data Visualization and Processing"
        },
        {
            "cell_type": "code",
            "execution_count": 8,
            "metadata": {},
            "outputs": [
                {
                    "data": {
                        "text/html": "<div>\n<style scoped>\n    .dataframe tbody tr th:only-of-type {\n        vertical-align: middle;\n    }\n\n    .dataframe tbody tr th {\n        vertical-align: top;\n    }\n\n    .dataframe thead th {\n        text-align: right;\n    }\n</style>\n<table border=\"1\" class=\"dataframe\">\n  <thead>\n    <tr style=\"text-align: right;\">\n      <th></th>\n      <th>REPORT_ID</th>\n      <th>Stats Area</th>\n      <th>Suburb</th>\n      <th>Postcode</th>\n      <th>LGA Name</th>\n      <th>Total Units</th>\n      <th>Total Cas</th>\n      <th>Total Fats</th>\n      <th>Total SI</th>\n      <th>Total MI</th>\n      <th>...</th>\n      <th>Crash Type</th>\n      <th>Unit Resp</th>\n      <th>Entity Code</th>\n      <th>CSEF Severity</th>\n      <th>Traffic Ctrls</th>\n      <th>DUI Involved</th>\n      <th>Drugs Involved</th>\n      <th>ACCLOC_X</th>\n      <th>ACCLOC_Y</th>\n      <th>UNIQUE_LOC</th>\n    </tr>\n  </thead>\n  <tbody>\n    <tr>\n      <th>0</th>\n      <td>2019-1-8/07/2020</td>\n      <td>2 Metropolitan</td>\n      <td>HAMPSTEAD GARDENS</td>\n      <td>5086</td>\n      <td>CITY OF PORT ADELAIDE ENFIELD</td>\n      <td>2</td>\n      <td>0</td>\n      <td>0</td>\n      <td>0</td>\n      <td>0</td>\n      <td>...</td>\n      <td>Right Angle</td>\n      <td>1</td>\n      <td>Driver Rider</td>\n      <td>1: PDO</td>\n      <td>Give Way Sign</td>\n      <td>NaN</td>\n      <td>NaN</td>\n      <td>1331810.03</td>\n      <td>1676603.26</td>\n      <td>13318101676603</td>\n    </tr>\n    <tr>\n      <th>1</th>\n      <td>2019-2-8/07/2020</td>\n      <td>2 Metropolitan</td>\n      <td>DRY CREEK</td>\n      <td>5094</td>\n      <td>CITY OF SALISBURY</td>\n      <td>2</td>\n      <td>0</td>\n      <td>0</td>\n      <td>0</td>\n      <td>0</td>\n      <td>...</td>\n      <td>Rear End</td>\n      <td>2</td>\n      <td>Driver Rider</td>\n      <td>1: PDO</td>\n      <td>No Control</td>\n      <td>NaN</td>\n      <td>NaN</td>\n      <td>1328376.20</td>\n      <td>1682942.63</td>\n      <td>13283761682943</td>\n    </tr>\n    <tr>\n      <th>2</th>\n      <td>2019-3-8/07/2020</td>\n      <td>2 Metropolitan</td>\n      <td>MILE END</td>\n      <td>5031</td>\n      <td>CITY OF WEST TORRENS</td>\n      <td>2</td>\n      <td>1</td>\n      <td>0</td>\n      <td>0</td>\n      <td>1</td>\n      <td>...</td>\n      <td>Hit Pedestrian</td>\n      <td>1</td>\n      <td>Driver Rider</td>\n      <td>2: MI</td>\n      <td>No Control</td>\n      <td>NaN</td>\n      <td>NaN</td>\n      <td>1325819.68</td>\n      <td>1670994.26</td>\n      <td>13258201670994</td>\n    </tr>\n    <tr>\n      <th>3</th>\n      <td>2019-4-8/07/2020</td>\n      <td>2 Metropolitan</td>\n      <td>PARALOWIE</td>\n      <td>5108</td>\n      <td>CITY OF SALISBURY</td>\n      <td>2</td>\n      <td>1</td>\n      <td>0</td>\n      <td>1</td>\n      <td>0</td>\n      <td>...</td>\n      <td>Hit Fixed Object</td>\n      <td>1</td>\n      <td>Driver Rider</td>\n      <td>3: SI</td>\n      <td>No Control</td>\n      <td>NaN</td>\n      <td>NaN</td>\n      <td>1328320.60</td>\n      <td>1690237.08</td>\n      <td>13283211690237</td>\n    </tr>\n    <tr>\n      <th>4</th>\n      <td>2019-5-8/07/2020</td>\n      <td>2 Metropolitan</td>\n      <td>MOUNT BARKER</td>\n      <td>5251</td>\n      <td>DC MT.BARKER.</td>\n      <td>2</td>\n      <td>0</td>\n      <td>0</td>\n      <td>0</td>\n      <td>0</td>\n      <td>...</td>\n      <td>Hit Animal</td>\n      <td>2</td>\n      <td>Animal</td>\n      <td>1: PDO</td>\n      <td>No Control</td>\n      <td>NaN</td>\n      <td>NaN</td>\n      <td>1353279.99</td>\n      <td>1655645.15</td>\n      <td>13532801655645</td>\n    </tr>\n  </tbody>\n</table>\n<p>5 rows \u00d7 33 columns</p>\n</div>",
                        "text/plain": "          REPORT_ID      Stats Area             Suburb  Postcode  \\\n0  2019-1-8/07/2020  2 Metropolitan  HAMPSTEAD GARDENS      5086   \n1  2019-2-8/07/2020  2 Metropolitan          DRY CREEK      5094   \n2  2019-3-8/07/2020  2 Metropolitan           MILE END      5031   \n3  2019-4-8/07/2020  2 Metropolitan          PARALOWIE      5108   \n4  2019-5-8/07/2020  2 Metropolitan       MOUNT BARKER      5251   \n\n                         LGA Name  Total Units  Total Cas  Total Fats  \\\n0   CITY OF PORT ADELAIDE ENFIELD            2          0           0   \n1               CITY OF SALISBURY            2          0           0   \n2            CITY OF WEST TORRENS            2          1           0   \n3               CITY OF SALISBURY            2          1           0   \n4  DC MT.BARKER.                             2          0           0   \n\n   Total SI  Total MI  ...        Crash Type Unit Resp   Entity Code  \\\n0         0         0  ...       Right Angle         1  Driver Rider   \n1         0         0  ...          Rear End         2  Driver Rider   \n2         0         1  ...    Hit Pedestrian         1  Driver Rider   \n3         1         0  ...  Hit Fixed Object         1  Driver Rider   \n4         0         0  ...        Hit Animal         2        Animal   \n\n  CSEF Severity  Traffic Ctrls DUI Involved Drugs Involved    ACCLOC_X  \\\n0        1: PDO  Give Way Sign          NaN            NaN  1331810.03   \n1        1: PDO     No Control          NaN            NaN  1328376.20   \n2         2: MI     No Control          NaN            NaN  1325819.68   \n3         3: SI     No Control          NaN            NaN  1328320.60   \n4        1: PDO     No Control          NaN            NaN  1353279.99   \n\n     ACCLOC_Y      UNIQUE_LOC  \n0  1676603.26  13318101676603  \n1  1682942.63  13283761682943  \n2  1670994.26  13258201670994  \n3  1690237.08  13283211690237  \n4  1655645.15  13532801655645  \n\n[5 rows x 33 columns]"
                    },
                    "execution_count": 8,
                    "metadata": {},
                    "output_type": "execute_result"
                }
            ],
            "source": "df.head()"
        },
        {
            "cell_type": "code",
            "execution_count": 9,
            "metadata": {},
            "outputs": [],
            "source": "#Drop the columns that will not be used in this study\ndf.drop(['REPORT_ID','Postcode','LGA Name','Total Cas','Total Fats', 'Total SI', 'Total MI','Year','Month','Time','Horizontal Align','Vertical Align','Other Feat','Unit Resp','Entity Code','ACCLOC_X','ACCLOC_Y','UNIQUE_LOC'], axis=1, inplace=True)"
        },
        {
            "cell_type": "code",
            "execution_count": 10,
            "metadata": {},
            "outputs": [
                {
                    "data": {
                        "text/plain": "1: PDO      8188\n2: MI       3937\n3: SI        729\n4: Fatal     110\nName: CSEF Severity, dtype: int64"
                    },
                    "execution_count": 10,
                    "metadata": {},
                    "output_type": "execute_result"
                }
            ],
            "source": "#What's the severity of each accident in the data set:\ndf['CSEF Severity'].value_counts()"
        },
        {
            "cell_type": "code",
            "execution_count": 11,
            "metadata": {},
            "outputs": [],
            "source": "#Before plotting the data, we will change the NaN fields for DUI involved and Drugs Involved to 0 \ndf['DUI Involved'] = df['DUI Involved'].fillna(0)\ndf['Drugs Involved'] = df['Drugs Involved'].fillna(0)"
        },
        {
            "cell_type": "code",
            "execution_count": 12,
            "metadata": {},
            "outputs": [
                {
                    "data": {
                        "text/html": "<div>\n<style scoped>\n    .dataframe tbody tr th:only-of-type {\n        vertical-align: middle;\n    }\n\n    .dataframe tbody tr th {\n        vertical-align: top;\n    }\n\n    .dataframe thead th {\n        text-align: right;\n    }\n</style>\n<table border=\"1\" class=\"dataframe\">\n  <thead>\n    <tr style=\"text-align: right;\">\n      <th></th>\n      <th>Stats Area</th>\n      <th>Suburb</th>\n      <th>Total Units</th>\n      <th>Day</th>\n      <th>Area Speed</th>\n      <th>Position Type</th>\n      <th>Road Surface</th>\n      <th>Moisture Cond</th>\n      <th>Weather Cond</th>\n      <th>DayNight</th>\n      <th>Crash Type</th>\n      <th>CSEF Severity</th>\n      <th>Traffic Ctrls</th>\n      <th>DUI Involved</th>\n      <th>Drugs Involved</th>\n    </tr>\n  </thead>\n  <tbody>\n    <tr>\n      <th>0</th>\n      <td>2 Metropolitan</td>\n      <td>HAMPSTEAD GARDENS</td>\n      <td>2</td>\n      <td>Wednesday</td>\n      <td>60</td>\n      <td>Cross Road</td>\n      <td>Sealed</td>\n      <td>Dry</td>\n      <td>Not Raining</td>\n      <td>Daylight</td>\n      <td>Right Angle</td>\n      <td>1: PDO</td>\n      <td>Give Way Sign</td>\n      <td>0</td>\n      <td>0</td>\n    </tr>\n    <tr>\n      <th>1</th>\n      <td>2 Metropolitan</td>\n      <td>DRY CREEK</td>\n      <td>2</td>\n      <td>Tuesday</td>\n      <td>90</td>\n      <td>Divided Road</td>\n      <td>Sealed</td>\n      <td>Dry</td>\n      <td>Not Raining</td>\n      <td>Night</td>\n      <td>Rear End</td>\n      <td>1: PDO</td>\n      <td>No Control</td>\n      <td>0</td>\n      <td>0</td>\n    </tr>\n    <tr>\n      <th>2</th>\n      <td>2 Metropolitan</td>\n      <td>MILE END</td>\n      <td>2</td>\n      <td>Tuesday</td>\n      <td>60</td>\n      <td>Divided Road</td>\n      <td>Sealed</td>\n      <td>Dry</td>\n      <td>Not Raining</td>\n      <td>Night</td>\n      <td>Hit Pedestrian</td>\n      <td>2: MI</td>\n      <td>No Control</td>\n      <td>0</td>\n      <td>0</td>\n    </tr>\n    <tr>\n      <th>3</th>\n      <td>2 Metropolitan</td>\n      <td>PARALOWIE</td>\n      <td>2</td>\n      <td>Tuesday</td>\n      <td>50</td>\n      <td>Not Divided</td>\n      <td>Sealed</td>\n      <td>Dry</td>\n      <td>Not Raining</td>\n      <td>Night</td>\n      <td>Hit Fixed Object</td>\n      <td>3: SI</td>\n      <td>No Control</td>\n      <td>0</td>\n      <td>0</td>\n    </tr>\n    <tr>\n      <th>4</th>\n      <td>2 Metropolitan</td>\n      <td>MOUNT BARKER</td>\n      <td>2</td>\n      <td>Tuesday</td>\n      <td>110</td>\n      <td>Divided Road</td>\n      <td>Sealed</td>\n      <td>Dry</td>\n      <td>Not Raining</td>\n      <td>Night</td>\n      <td>Hit Animal</td>\n      <td>1: PDO</td>\n      <td>No Control</td>\n      <td>0</td>\n      <td>0</td>\n    </tr>\n  </tbody>\n</table>\n</div>",
                        "text/plain": "       Stats Area             Suburb  Total Units        Day  Area Speed  \\\n0  2 Metropolitan  HAMPSTEAD GARDENS            2  Wednesday          60   \n1  2 Metropolitan          DRY CREEK            2    Tuesday          90   \n2  2 Metropolitan           MILE END            2    Tuesday          60   \n3  2 Metropolitan          PARALOWIE            2    Tuesday          50   \n4  2 Metropolitan       MOUNT BARKER            2    Tuesday         110   \n\n  Position Type Road Surface Moisture Cond Weather Cond  DayNight  \\\n0    Cross Road       Sealed           Dry  Not Raining  Daylight   \n1  Divided Road       Sealed           Dry  Not Raining     Night   \n2  Divided Road       Sealed           Dry  Not Raining     Night   \n3   Not Divided       Sealed           Dry  Not Raining     Night   \n4  Divided Road       Sealed           Dry  Not Raining     Night   \n\n         Crash Type CSEF Severity  Traffic Ctrls  DUI Involved  Drugs Involved  \n0       Right Angle        1: PDO  Give Way Sign             0               0  \n1          Rear End        1: PDO     No Control             0               0  \n2    Hit Pedestrian         2: MI     No Control             0               0  \n3  Hit Fixed Object         3: SI     No Control             0               0  \n4        Hit Animal        1: PDO     No Control             0               0  "
                    },
                    "execution_count": 12,
                    "metadata": {},
                    "output_type": "execute_result"
                }
            ],
            "source": "#and then apply the function to modify Y to 1\ndf['DUI Involved'].replace({'Y': 1}, inplace=True)\ndf['Drugs Involved'].replace({'Y': 1}, inplace=True)\ndf.head()"
        },
        {
            "cell_type": "code",
            "execution_count": 13,
            "metadata": {},
            "outputs": [
                {
                    "data": {
                        "text/html": "<div>\n<style scoped>\n    .dataframe tbody tr th:only-of-type {\n        vertical-align: middle;\n    }\n\n    .dataframe tbody tr th {\n        vertical-align: top;\n    }\n\n    .dataframe thead th {\n        text-align: right;\n    }\n</style>\n<table border=\"1\" class=\"dataframe\">\n  <thead>\n    <tr style=\"text-align: right;\">\n      <th></th>\n      <th>Stats Area</th>\n      <th>Suburb</th>\n      <th>Total Units</th>\n      <th>Day</th>\n      <th>Area Speed</th>\n      <th>Position Type</th>\n      <th>Road Surface</th>\n      <th>Moisture Cond</th>\n      <th>Weather Cond</th>\n      <th>DayNight</th>\n      <th>Crash Type</th>\n      <th>CSEF Severity</th>\n      <th>Traffic Ctrls</th>\n      <th>DUI Involved</th>\n      <th>Drugs Involved</th>\n      <th>Under Influence</th>\n    </tr>\n  </thead>\n  <tbody>\n    <tr>\n      <th>0</th>\n      <td>2 Metropolitan</td>\n      <td>HAMPSTEAD GARDENS</td>\n      <td>2</td>\n      <td>Wednesday</td>\n      <td>60</td>\n      <td>Cross Road</td>\n      <td>Sealed</td>\n      <td>Dry</td>\n      <td>Not Raining</td>\n      <td>Daylight</td>\n      <td>Right Angle</td>\n      <td>1: PDO</td>\n      <td>Give Way Sign</td>\n      <td>0</td>\n      <td>0</td>\n      <td>0</td>\n    </tr>\n    <tr>\n      <th>1</th>\n      <td>2 Metropolitan</td>\n      <td>DRY CREEK</td>\n      <td>2</td>\n      <td>Tuesday</td>\n      <td>90</td>\n      <td>Divided Road</td>\n      <td>Sealed</td>\n      <td>Dry</td>\n      <td>Not Raining</td>\n      <td>Night</td>\n      <td>Rear End</td>\n      <td>1: PDO</td>\n      <td>No Control</td>\n      <td>0</td>\n      <td>0</td>\n      <td>0</td>\n    </tr>\n    <tr>\n      <th>2</th>\n      <td>2 Metropolitan</td>\n      <td>MILE END</td>\n      <td>2</td>\n      <td>Tuesday</td>\n      <td>60</td>\n      <td>Divided Road</td>\n      <td>Sealed</td>\n      <td>Dry</td>\n      <td>Not Raining</td>\n      <td>Night</td>\n      <td>Hit Pedestrian</td>\n      <td>2: MI</td>\n      <td>No Control</td>\n      <td>0</td>\n      <td>0</td>\n      <td>0</td>\n    </tr>\n    <tr>\n      <th>3</th>\n      <td>2 Metropolitan</td>\n      <td>PARALOWIE</td>\n      <td>2</td>\n      <td>Tuesday</td>\n      <td>50</td>\n      <td>Not Divided</td>\n      <td>Sealed</td>\n      <td>Dry</td>\n      <td>Not Raining</td>\n      <td>Night</td>\n      <td>Hit Fixed Object</td>\n      <td>3: SI</td>\n      <td>No Control</td>\n      <td>0</td>\n      <td>0</td>\n      <td>0</td>\n    </tr>\n    <tr>\n      <th>4</th>\n      <td>2 Metropolitan</td>\n      <td>MOUNT BARKER</td>\n      <td>2</td>\n      <td>Tuesday</td>\n      <td>110</td>\n      <td>Divided Road</td>\n      <td>Sealed</td>\n      <td>Dry</td>\n      <td>Not Raining</td>\n      <td>Night</td>\n      <td>Hit Animal</td>\n      <td>1: PDO</td>\n      <td>No Control</td>\n      <td>0</td>\n      <td>0</td>\n      <td>0</td>\n    </tr>\n  </tbody>\n</table>\n</div>",
                        "text/plain": "       Stats Area             Suburb  Total Units        Day  Area Speed  \\\n0  2 Metropolitan  HAMPSTEAD GARDENS            2  Wednesday          60   \n1  2 Metropolitan          DRY CREEK            2    Tuesday          90   \n2  2 Metropolitan           MILE END            2    Tuesday          60   \n3  2 Metropolitan          PARALOWIE            2    Tuesday          50   \n4  2 Metropolitan       MOUNT BARKER            2    Tuesday         110   \n\n  Position Type Road Surface Moisture Cond Weather Cond  DayNight  \\\n0    Cross Road       Sealed           Dry  Not Raining  Daylight   \n1  Divided Road       Sealed           Dry  Not Raining     Night   \n2  Divided Road       Sealed           Dry  Not Raining     Night   \n3   Not Divided       Sealed           Dry  Not Raining     Night   \n4  Divided Road       Sealed           Dry  Not Raining     Night   \n\n         Crash Type CSEF Severity  Traffic Ctrls  DUI Involved  \\\n0       Right Angle        1: PDO  Give Way Sign             0   \n1          Rear End        1: PDO     No Control             0   \n2    Hit Pedestrian         2: MI     No Control             0   \n3  Hit Fixed Object         3: SI     No Control             0   \n4        Hit Animal        1: PDO     No Control             0   \n\n   Drugs Involved  Under Influence  \n0               0                0  \n1               0                0  \n2               0                0  \n3               0                0  \n4               0                0  "
                    },
                    "execution_count": 13,
                    "metadata": {},
                    "output_type": "execute_result"
                }
            ],
            "source": "#Merge the DUI Involved and Drugs Involved into a new column called Under Influence\ndf['Under Influence']=df['DUI Involved']+df['Drugs Involved']\ndf.head()"
        },
        {
            "cell_type": "code",
            "execution_count": 14,
            "metadata": {},
            "outputs": [],
            "source": "#Drop additional non-required variables\ndf.drop(['DUI Involved','Drugs Involved'], axis=1, inplace=True)"
        },
        {
            "cell_type": "code",
            "execution_count": 15,
            "metadata": {},
            "outputs": [
                {
                    "data": {
                        "text/plain": "<matplotlib.axes._subplots.AxesSubplot at 0x7f32e3d3ac88>"
                    },
                    "execution_count": 15,
                    "metadata": {},
                    "output_type": "execute_result"
                },
                {
                    "data": {
                        "image/png": "[encoded data removed]",
                        "text/plain": "<Figure size 432x288 with 1 Axes>"
                    },
                    "metadata": {
                        "needs_background": "light"
                    },
                    "output_type": "display_data"
                }
            ],
            "source": "#First plot to visualize data will be a boxplot. We will check how the area speed affects the severity of accidents injuries\nsns.boxplot(x='Area Speed', y='CSEF Severity', data=df)"
        },
        {
            "cell_type": "code",
            "execution_count": 24,
            "metadata": {},
            "outputs": [
                {
                    "data": {
                        "text/plain": "Under Influence  CSEF Severity\n0                1: PDO           0.647831\n                 2: MI            0.297365\n                 3: SI            0.048237\n                 4: Fatal         0.006567\n1                2: MI            0.428571\n                 1: PDO           0.322689\n                 3: SI            0.210084\n                 4: Fatal         0.038655\n2                2: MI            0.411765\n                 3: SI            0.264706\n                 4: Fatal         0.176471\n                 1: PDO           0.147059\nName: CSEF Severity, dtype: float64"
                    },
                    "execution_count": 24,
                    "metadata": {},
                    "output_type": "execute_result"
                }
            ],
            "source": "#Now let's check if driving under the influence impacts the severity of the crashes: \ndf.groupby(['Under Influence'])['CSEF Severity'].value_counts(normalize=True)"
        },
        {
            "cell_type": "markdown",
            "metadata": {},
            "source": "As per the above results, people driving under the influence of alcohol or alcohol and other drugs are more likely to be involved in more serious accidents. With the fatality rate when two different types of substances are involved being 17%. "
        },
        {
            "cell_type": "code",
            "execution_count": 35,
            "metadata": {},
            "outputs": [
                {
                    "data": {
                        "image/png": "[encoded data removed]",
                        "text/plain": "<Figure size 432x288 with 1 Axes>"
                    },
                    "metadata": {},
                    "output_type": "display_data"
                }
            ],
            "source": "#Now, let's reproduce the information above in a bar plot\nsns.barplot(x='Under Influence', y='CSEF Severity', data=df, ci= None)\nplt.show()"
        },
        {
            "cell_type": "code",
            "execution_count": 36,
            "metadata": {},
            "outputs": [
                {
                    "data": {
                        "image/png": "[encoded data removed]",
                        "text/plain": "<Figure size 432x288 with 1 Axes>"
                    },
                    "metadata": {},
                    "output_type": "display_data"
                }
            ],
            "source": "#Let's now check with a bar chart which days of the week people are more likely to be driving under the influence of substances\nsns.barplot(x='Under Influence', y='Day', data=df, ci= None)\nplt.show()"
        },
        {
            "cell_type": "markdown",
            "metadata": {},
            "source": "From the above, we can conclude that on the weekends it's more likely that people will be driving under the influence of one or more substances. "
        },
        {
            "cell_type": "code",
            "execution_count": 37,
            "metadata": {},
            "outputs": [
                {
                    "data": {
                        "text/plain": "Road Surface  CSEF Severity\nSealed        1: PDO           0.633707\n              2: MI            0.304344\n              3: SI            0.053848\n              4: Fatal         0.008101\nUnknown       1: PDO           1.000000\nUnsealed      1: PDO           0.559140\n              2: MI            0.282258\n              3: SI            0.137097\n              4: Fatal         0.021505\nName: CSEF Severity, dtype: float64"
                    },
                    "execution_count": 37,
                    "metadata": {},
                    "output_type": "execute_result"
                }
            ],
            "source": "#Before proceeding to modelling, lets check the perncentages of a few other varibles: \ndf.groupby(['Road Surface'])['CSEF Severity'].value_counts(normalize=True)"
        },
        {
            "cell_type": "code",
            "execution_count": 45,
            "metadata": {},
            "outputs": [],
            "source": "#Lets drop rows classified as unknown\nindex_SFC = df[df['Road Surface'] == 'Unknown'].index\n#Drop the index_SFC\ndf.drop(index_SFC, inplace=True)"
        },
        {
            "cell_type": "code",
            "execution_count": 46,
            "metadata": {},
            "outputs": [
                {
                    "data": {
                        "text/plain": "Road Surface  CSEF Severity\nSealed        1: PDO           0.633707\n              2: MI            0.304344\n              3: SI            0.053848\n              4: Fatal         0.008101\nUnsealed      1: PDO           0.559140\n              2: MI            0.282258\n              3: SI            0.137097\n              4: Fatal         0.021505\nName: CSEF Severity, dtype: float64"
                    },
                    "execution_count": 46,
                    "metadata": {},
                    "output_type": "execute_result"
                }
            ],
            "source": "#Lets now check the percentage again: \ndf.groupby(['Road Surface'])['CSEF Severity'].value_counts(normalize=True)"
        },
        {
            "cell_type": "markdown",
            "metadata": {},
            "source": "The above shows that the road pavement does not have a strong correlation with the accidents severity, so we will drop this variable from the data frame."
        },
        {
            "cell_type": "code",
            "execution_count": 47,
            "metadata": {},
            "outputs": [],
            "source": "#Drop additional non-required variables\ndf.drop(['Road Surface'], axis=1, inplace=True)"
        },
        {
            "cell_type": "code",
            "execution_count": 48,
            "metadata": {},
            "outputs": [
                {
                    "data": {
                        "text/html": "<div>\n<style scoped>\n    .dataframe tbody tr th:only-of-type {\n        vertical-align: middle;\n    }\n\n    .dataframe tbody tr th {\n        vertical-align: top;\n    }\n\n    .dataframe thead th {\n        text-align: right;\n    }\n</style>\n<table border=\"1\" class=\"dataframe\">\n  <thead>\n    <tr style=\"text-align: right;\">\n      <th></th>\n      <th>Stats Area</th>\n      <th>Suburb</th>\n      <th>Total Units</th>\n      <th>Day</th>\n      <th>Area Speed</th>\n      <th>Position Type</th>\n      <th>Moisture Cond</th>\n      <th>Weather Cond</th>\n      <th>DayNight</th>\n      <th>Crash Type</th>\n      <th>CSEF Severity</th>\n      <th>Traffic Ctrls</th>\n      <th>Under Influence</th>\n    </tr>\n  </thead>\n  <tbody>\n    <tr>\n      <th>0</th>\n      <td>2 Metropolitan</td>\n      <td>HAMPSTEAD GARDENS</td>\n      <td>2</td>\n      <td>Wednesday</td>\n      <td>60</td>\n      <td>Cross Road</td>\n      <td>Dry</td>\n      <td>Not Raining</td>\n      <td>Daylight</td>\n      <td>Right Angle</td>\n      <td>1: PDO</td>\n      <td>Give Way Sign</td>\n      <td>0</td>\n    </tr>\n    <tr>\n      <th>1</th>\n      <td>2 Metropolitan</td>\n      <td>DRY CREEK</td>\n      <td>2</td>\n      <td>Tuesday</td>\n      <td>90</td>\n      <td>Divided Road</td>\n      <td>Dry</td>\n      <td>Not Raining</td>\n      <td>Night</td>\n      <td>Rear End</td>\n      <td>1: PDO</td>\n      <td>No Control</td>\n      <td>0</td>\n    </tr>\n    <tr>\n      <th>2</th>\n      <td>2 Metropolitan</td>\n      <td>MILE END</td>\n      <td>2</td>\n      <td>Tuesday</td>\n      <td>60</td>\n      <td>Divided Road</td>\n      <td>Dry</td>\n      <td>Not Raining</td>\n      <td>Night</td>\n      <td>Hit Pedestrian</td>\n      <td>2: MI</td>\n      <td>No Control</td>\n      <td>0</td>\n    </tr>\n    <tr>\n      <th>3</th>\n      <td>2 Metropolitan</td>\n      <td>PARALOWIE</td>\n      <td>2</td>\n      <td>Tuesday</td>\n      <td>50</td>\n      <td>Not Divided</td>\n      <td>Dry</td>\n      <td>Not Raining</td>\n      <td>Night</td>\n      <td>Hit Fixed Object</td>\n      <td>3: SI</td>\n      <td>No Control</td>\n      <td>0</td>\n    </tr>\n    <tr>\n      <th>4</th>\n      <td>2 Metropolitan</td>\n      <td>MOUNT BARKER</td>\n      <td>2</td>\n      <td>Tuesday</td>\n      <td>110</td>\n      <td>Divided Road</td>\n      <td>Dry</td>\n      <td>Not Raining</td>\n      <td>Night</td>\n      <td>Hit Animal</td>\n      <td>1: PDO</td>\n      <td>No Control</td>\n      <td>0</td>\n    </tr>\n  </tbody>\n</table>\n</div>",
                        "text/plain": "       Stats Area             Suburb  Total Units        Day  Area Speed  \\\n0  2 Metropolitan  HAMPSTEAD GARDENS            2  Wednesday          60   \n1  2 Metropolitan          DRY CREEK            2    Tuesday          90   \n2  2 Metropolitan           MILE END            2    Tuesday          60   \n3  2 Metropolitan          PARALOWIE            2    Tuesday          50   \n4  2 Metropolitan       MOUNT BARKER            2    Tuesday         110   \n\n  Position Type Moisture Cond Weather Cond  DayNight        Crash Type  \\\n0    Cross Road           Dry  Not Raining  Daylight       Right Angle   \n1  Divided Road           Dry  Not Raining     Night          Rear End   \n2  Divided Road           Dry  Not Raining     Night    Hit Pedestrian   \n3   Not Divided           Dry  Not Raining     Night  Hit Fixed Object   \n4  Divided Road           Dry  Not Raining     Night        Hit Animal   \n\n  CSEF Severity  Traffic Ctrls  Under Influence  \n0        1: PDO  Give Way Sign                0  \n1        1: PDO     No Control                0  \n2         2: MI     No Control                0  \n3         3: SI     No Control                0  \n4        1: PDO     No Control                0  "
                    },
                    "execution_count": 48,
                    "metadata": {},
                    "output_type": "execute_result"
                }
            ],
            "source": "df.head()"
        },
        {
            "cell_type": "code",
            "execution_count": 49,
            "metadata": {},
            "outputs": [
                {
                    "data": {
                        "text/plain": "Moisture Cond  CSEF Severity\nDry            1: PDO           0.629154\n               2: MI            0.304374\n               3: SI            0.057603\n               4: Fatal         0.008869\nUnknown        1: PDO           0.636364\n               2: MI            0.181818\n               3: SI            0.090909\n               4: Fatal         0.090909\nWet            1: PDO           0.652600\n               2: MI            0.299925\n               3: SI            0.043708\n               4: Fatal         0.003768\nName: CSEF Severity, dtype: float64"
                    },
                    "execution_count": 49,
                    "metadata": {},
                    "output_type": "execute_result"
                }
            ],
            "source": "#Lets now check the Moisture Conditions: \ndf.groupby(['Moisture Cond'])['CSEF Severity'].value_counts(normalize=True)"
        },
        {
            "cell_type": "code",
            "execution_count": 50,
            "metadata": {},
            "outputs": [],
            "source": "#Eliminate Unknown variables on the rows\nindex_MCT = df[df['Moisture Cond'] == 'Unknown'].index\ndf.drop(index_MCT, inplace=True)"
        },
        {
            "cell_type": "code",
            "execution_count": 51,
            "metadata": {},
            "outputs": [
                {
                    "data": {
                        "text/plain": "Moisture Cond  CSEF Severity\nDry            1: PDO           0.629154\n               2: MI            0.304374\n               3: SI            0.057603\n               4: Fatal         0.008869\nWet            1: PDO           0.652600\n               2: MI            0.299925\n               3: SI            0.043708\n               4: Fatal         0.003768\nName: CSEF Severity, dtype: float64"
                    },
                    "execution_count": 51,
                    "metadata": {},
                    "output_type": "execute_result"
                }
            ],
            "source": "df.groupby(['Moisture Cond'])['CSEF Severity'].value_counts(normalize=True)"
        },
        {
            "cell_type": "markdown",
            "metadata": {},
            "source": "From the above percentages we can conclude the moisture conditions also do not have a strong correlation to the severity of accidents. "
        },
        {
            "cell_type": "code",
            "execution_count": 52,
            "metadata": {},
            "outputs": [],
            "source": "df.drop(['Moisture Cond'], axis=1, inplace=True)"
        },
        {
            "cell_type": "code",
            "execution_count": 53,
            "metadata": {},
            "outputs": [
                {
                    "data": {
                        "text/html": "<div>\n<style scoped>\n    .dataframe tbody tr th:only-of-type {\n        vertical-align: middle;\n    }\n\n    .dataframe tbody tr th {\n        vertical-align: top;\n    }\n\n    .dataframe thead th {\n        text-align: right;\n    }\n</style>\n<table border=\"1\" class=\"dataframe\">\n  <thead>\n    <tr style=\"text-align: right;\">\n      <th></th>\n      <th>Stats Area</th>\n      <th>Suburb</th>\n      <th>Total Units</th>\n      <th>Day</th>\n      <th>Area Speed</th>\n      <th>Position Type</th>\n      <th>Weather Cond</th>\n      <th>DayNight</th>\n      <th>Crash Type</th>\n      <th>CSEF Severity</th>\n      <th>Traffic Ctrls</th>\n      <th>Under Influence</th>\n    </tr>\n  </thead>\n  <tbody>\n    <tr>\n      <th>0</th>\n      <td>2 Metropolitan</td>\n      <td>HAMPSTEAD GARDENS</td>\n      <td>2</td>\n      <td>Wednesday</td>\n      <td>60</td>\n      <td>Cross Road</td>\n      <td>Not Raining</td>\n      <td>Daylight</td>\n      <td>Right Angle</td>\n      <td>1: PDO</td>\n      <td>Give Way Sign</td>\n      <td>0</td>\n    </tr>\n    <tr>\n      <th>1</th>\n      <td>2 Metropolitan</td>\n      <td>DRY CREEK</td>\n      <td>2</td>\n      <td>Tuesday</td>\n      <td>90</td>\n      <td>Divided Road</td>\n      <td>Not Raining</td>\n      <td>Night</td>\n      <td>Rear End</td>\n      <td>1: PDO</td>\n      <td>No Control</td>\n      <td>0</td>\n    </tr>\n    <tr>\n      <th>2</th>\n      <td>2 Metropolitan</td>\n      <td>MILE END</td>\n      <td>2</td>\n      <td>Tuesday</td>\n      <td>60</td>\n      <td>Divided Road</td>\n      <td>Not Raining</td>\n      <td>Night</td>\n      <td>Hit Pedestrian</td>\n      <td>2: MI</td>\n      <td>No Control</td>\n      <td>0</td>\n    </tr>\n    <tr>\n      <th>3</th>\n      <td>2 Metropolitan</td>\n      <td>PARALOWIE</td>\n      <td>2</td>\n      <td>Tuesday</td>\n      <td>50</td>\n      <td>Not Divided</td>\n      <td>Not Raining</td>\n      <td>Night</td>\n      <td>Hit Fixed Object</td>\n      <td>3: SI</td>\n      <td>No Control</td>\n      <td>0</td>\n    </tr>\n    <tr>\n      <th>4</th>\n      <td>2 Metropolitan</td>\n      <td>MOUNT BARKER</td>\n      <td>2</td>\n      <td>Tuesday</td>\n      <td>110</td>\n      <td>Divided Road</td>\n      <td>Not Raining</td>\n      <td>Night</td>\n      <td>Hit Animal</td>\n      <td>1: PDO</td>\n      <td>No Control</td>\n      <td>0</td>\n    </tr>\n  </tbody>\n</table>\n</div>",
                        "text/plain": "       Stats Area             Suburb  Total Units        Day  Area Speed  \\\n0  2 Metropolitan  HAMPSTEAD GARDENS            2  Wednesday          60   \n1  2 Metropolitan          DRY CREEK            2    Tuesday          90   \n2  2 Metropolitan           MILE END            2    Tuesday          60   \n3  2 Metropolitan          PARALOWIE            2    Tuesday          50   \n4  2 Metropolitan       MOUNT BARKER            2    Tuesday         110   \n\n  Position Type Weather Cond  DayNight        Crash Type CSEF Severity  \\\n0    Cross Road  Not Raining  Daylight       Right Angle        1: PDO   \n1  Divided Road  Not Raining     Night          Rear End        1: PDO   \n2  Divided Road  Not Raining     Night    Hit Pedestrian         2: MI   \n3   Not Divided  Not Raining     Night  Hit Fixed Object         3: SI   \n4  Divided Road  Not Raining     Night        Hit Animal        1: PDO   \n\n   Traffic Ctrls  Under Influence  \n0  Give Way Sign                0  \n1     No Control                0  \n2     No Control                0  \n3     No Control                0  \n4     No Control                0  "
                    },
                    "execution_count": 53,
                    "metadata": {},
                    "output_type": "execute_result"
                }
            ],
            "source": "df.head()"
        },
        {
            "cell_type": "code",
            "execution_count": 55,
            "metadata": {},
            "outputs": [
                {
                    "data": {
                        "text/plain": "No Control                   8786\nTraffic Signals              2231\nGive Way Sign                 908\nStop Sign                     506\nRoundabout                    483\nRail Xing - Boom               10\nRail Xing - Flashing            6\nRail Xing-Traffic Signals       6\nOther                           5\nName: Traffic Ctrls, dtype: int64"
                    },
                    "execution_count": 55,
                    "metadata": {},
                    "output_type": "execute_result"
                }
            ],
            "source": "#Before eliminating more variables, let's process the Traffic Controls data: \ndf['Traffic Ctrls'].value_counts()"
        },
        {
            "cell_type": "code",
            "execution_count": 56,
            "metadata": {},
            "outputs": [],
            "source": "#Lets replace all variables that appear as a 'No Control' by a 0:\ndf['Traffic Ctrls'].replace({'No Control': 0}, inplace=True)"
        },
        {
            "cell_type": "code",
            "execution_count": 64,
            "metadata": {},
            "outputs": [
                {
                    "ename": "TypeError",
                    "evalue": "Cannot compare types 'ndarray(dtype=int64)' and 'str'",
                    "output_type": "error",
                    "traceback": [
                        "\u001b[0;31m---------------------------------------------------------------------------\u001b[0m",
                        "\u001b[0;31mTypeError\u001b[0m                                 Traceback (most recent call last)",
                        "\u001b[0;32m<ipython-input-64-d8809fa370fe>\u001b[0m in \u001b[0;36m<module>\u001b[0;34m\u001b[0m\n\u001b[1;32m      7\u001b[0m \u001b[0mdf\u001b[0m\u001b[0;34m[\u001b[0m\u001b[0;34m'Traffic Ctrls'\u001b[0m\u001b[0;34m]\u001b[0m\u001b[0;34m.\u001b[0m\u001b[0mreplace\u001b[0m\u001b[0;34m(\u001b[0m\u001b[0;34m{\u001b[0m\u001b[0;34m'Rail Xing - Flashing'\u001b[0m\u001b[0;34m:\u001b[0m\u001b[0;36m1\u001b[0m\u001b[0;34m}\u001b[0m\u001b[0;34m,\u001b[0m \u001b[0minplace\u001b[0m\u001b[0;34m=\u001b[0m\u001b[0;32mTrue\u001b[0m\u001b[0;34m)\u001b[0m\u001b[0;34m\u001b[0m\u001b[0;34m\u001b[0m\u001b[0m\n\u001b[1;32m      8\u001b[0m \u001b[0mdf\u001b[0m\u001b[0;34m[\u001b[0m\u001b[0;34m'Traffic Ctrls'\u001b[0m\u001b[0;34m]\u001b[0m\u001b[0;34m.\u001b[0m\u001b[0mreplace\u001b[0m\u001b[0;34m(\u001b[0m\u001b[0;34m{\u001b[0m\u001b[0;34m'Rail Xing-Traffic Signals'\u001b[0m\u001b[0;34m:\u001b[0m\u001b[0;36m1\u001b[0m\u001b[0;34m}\u001b[0m\u001b[0;34m,\u001b[0m \u001b[0minplace\u001b[0m\u001b[0;34m=\u001b[0m\u001b[0;32mTrue\u001b[0m\u001b[0;34m)\u001b[0m\u001b[0;34m\u001b[0m\u001b[0;34m\u001b[0m\u001b[0m\n\u001b[0;32m----> 9\u001b[0;31m \u001b[0mdf\u001b[0m\u001b[0;34m[\u001b[0m\u001b[0;34m'Traffic Ctrls'\u001b[0m\u001b[0;34m]\u001b[0m\u001b[0;34m.\u001b[0m\u001b[0mreplace\u001b[0m\u001b[0;34m(\u001b[0m\u001b[0;34m{\u001b[0m\u001b[0;34m'Other'\u001b[0m\u001b[0;34m:\u001b[0m\u001b[0;36m1\u001b[0m\u001b[0;34m}\u001b[0m\u001b[0;34m,\u001b[0m \u001b[0minplace\u001b[0m\u001b[0;34m=\u001b[0m\u001b[0;32mTrue\u001b[0m\u001b[0;34m)\u001b[0m\u001b[0;34m\u001b[0m\u001b[0;34m\u001b[0m\u001b[0m\n\u001b[0m",
                        "\u001b[0;32m/opt/conda/envs/Python36/lib/python3.6/site-packages/pandas/core/series.py\u001b[0m in \u001b[0;36mreplace\u001b[0;34m(self, to_replace, value, inplace, limit, regex, method)\u001b[0m\n\u001b[1;32m   3839\u001b[0m         return super(Series, self).replace(to_replace=to_replace, value=value,\n\u001b[1;32m   3840\u001b[0m                                            \u001b[0minplace\u001b[0m\u001b[0;34m=\u001b[0m\u001b[0minplace\u001b[0m\u001b[0;34m,\u001b[0m \u001b[0mlimit\u001b[0m\u001b[0;34m=\u001b[0m\u001b[0mlimit\u001b[0m\u001b[0;34m,\u001b[0m\u001b[0;34m\u001b[0m\u001b[0;34m\u001b[0m\u001b[0m\n\u001b[0;32m-> 3841\u001b[0;31m                                            regex=regex, method=method)\n\u001b[0m\u001b[1;32m   3842\u001b[0m \u001b[0;34m\u001b[0m\u001b[0m\n\u001b[1;32m   3843\u001b[0m     \u001b[0;34m@\u001b[0m\u001b[0mAppender\u001b[0m\u001b[0;34m(\u001b[0m\u001b[0mgeneric\u001b[0m\u001b[0;34m.\u001b[0m\u001b[0m_shared_docs\u001b[0m\u001b[0;34m[\u001b[0m\u001b[0;34m'shift'\u001b[0m\u001b[0;34m]\u001b[0m \u001b[0;34m%\u001b[0m \u001b[0m_shared_doc_kwargs\u001b[0m\u001b[0;34m)\u001b[0m\u001b[0;34m\u001b[0m\u001b[0;34m\u001b[0m\u001b[0m\n",
                        "\u001b[0;32m/opt/conda/envs/Python36/lib/python3.6/site-packages/pandas/core/generic.py\u001b[0m in \u001b[0;36mreplace\u001b[0;34m(self, to_replace, value, inplace, limit, regex, method)\u001b[0m\n\u001b[1;32m   6496\u001b[0m \u001b[0;34m\u001b[0m\u001b[0m\n\u001b[1;32m   6497\u001b[0m             return self.replace(to_replace, value, inplace=inplace,\n\u001b[0;32m-> 6498\u001b[0;31m                                 limit=limit, regex=regex)\n\u001b[0m\u001b[1;32m   6499\u001b[0m         \u001b[0;32melse\u001b[0m\u001b[0;34m:\u001b[0m\u001b[0;34m\u001b[0m\u001b[0;34m\u001b[0m\u001b[0m\n\u001b[1;32m   6500\u001b[0m \u001b[0;34m\u001b[0m\u001b[0m\n",
                        "\u001b[0;32m/opt/conda/envs/Python36/lib/python3.6/site-packages/pandas/core/series.py\u001b[0m in \u001b[0;36mreplace\u001b[0;34m(self, to_replace, value, inplace, limit, regex, method)\u001b[0m\n\u001b[1;32m   3839\u001b[0m         return super(Series, self).replace(to_replace=to_replace, value=value,\n\u001b[1;32m   3840\u001b[0m                                            \u001b[0minplace\u001b[0m\u001b[0;34m=\u001b[0m\u001b[0minplace\u001b[0m\u001b[0;34m,\u001b[0m \u001b[0mlimit\u001b[0m\u001b[0;34m=\u001b[0m\u001b[0mlimit\u001b[0m\u001b[0;34m,\u001b[0m\u001b[0;34m\u001b[0m\u001b[0;34m\u001b[0m\u001b[0m\n\u001b[0;32m-> 3841\u001b[0;31m                                            regex=regex, method=method)\n\u001b[0m\u001b[1;32m   3842\u001b[0m \u001b[0;34m\u001b[0m\u001b[0m\n\u001b[1;32m   3843\u001b[0m     \u001b[0;34m@\u001b[0m\u001b[0mAppender\u001b[0m\u001b[0;34m(\u001b[0m\u001b[0mgeneric\u001b[0m\u001b[0;34m.\u001b[0m\u001b[0m_shared_docs\u001b[0m\u001b[0;34m[\u001b[0m\u001b[0;34m'shift'\u001b[0m\u001b[0;34m]\u001b[0m \u001b[0;34m%\u001b[0m \u001b[0m_shared_doc_kwargs\u001b[0m\u001b[0;34m)\u001b[0m\u001b[0;34m\u001b[0m\u001b[0;34m\u001b[0m\u001b[0m\n",
                        "\u001b[0;32m/opt/conda/envs/Python36/lib/python3.6/site-packages/pandas/core/generic.py\u001b[0m in \u001b[0;36mreplace\u001b[0;34m(self, to_replace, value, inplace, limit, regex, method)\u001b[0m\n\u001b[1;32m   6545\u001b[0m                                                        \u001b[0mdest_list\u001b[0m\u001b[0;34m=\u001b[0m\u001b[0mvalue\u001b[0m\u001b[0;34m,\u001b[0m\u001b[0;34m\u001b[0m\u001b[0;34m\u001b[0m\u001b[0m\n\u001b[1;32m   6546\u001b[0m                                                        \u001b[0minplace\u001b[0m\u001b[0;34m=\u001b[0m\u001b[0minplace\u001b[0m\u001b[0;34m,\u001b[0m\u001b[0;34m\u001b[0m\u001b[0;34m\u001b[0m\u001b[0m\n\u001b[0;32m-> 6547\u001b[0;31m                                                        regex=regex)\n\u001b[0m\u001b[1;32m   6548\u001b[0m \u001b[0;34m\u001b[0m\u001b[0m\n\u001b[1;32m   6549\u001b[0m                 \u001b[0;32melse\u001b[0m\u001b[0;34m:\u001b[0m  \u001b[0;31m# [NA, ''] -> 0\u001b[0m\u001b[0;34m\u001b[0m\u001b[0;34m\u001b[0m\u001b[0m\n",
                        "\u001b[0;32m/opt/conda/envs/Python36/lib/python3.6/site-packages/pandas/core/internals/managers.py\u001b[0m in \u001b[0;36mreplace_list\u001b[0;34m(self, src_list, dest_list, inplace, regex)\u001b[0m\n\u001b[1;32m    557\u001b[0m             \u001b[0;32mreturn\u001b[0m \u001b[0m_compare_or_regex_match\u001b[0m\u001b[0;34m(\u001b[0m\u001b[0mvalues\u001b[0m\u001b[0;34m,\u001b[0m \u001b[0ms\u001b[0m\u001b[0;34m,\u001b[0m \u001b[0mregex\u001b[0m\u001b[0;34m)\u001b[0m\u001b[0;34m\u001b[0m\u001b[0;34m\u001b[0m\u001b[0m\n\u001b[1;32m    558\u001b[0m \u001b[0;34m\u001b[0m\u001b[0m\n\u001b[0;32m--> 559\u001b[0;31m         \u001b[0mmasks\u001b[0m \u001b[0;34m=\u001b[0m \u001b[0;34m[\u001b[0m\u001b[0mcomp\u001b[0m\u001b[0;34m(\u001b[0m\u001b[0ms\u001b[0m\u001b[0;34m,\u001b[0m \u001b[0mregex\u001b[0m\u001b[0;34m)\u001b[0m \u001b[0;32mfor\u001b[0m \u001b[0mi\u001b[0m\u001b[0;34m,\u001b[0m \u001b[0ms\u001b[0m \u001b[0;32min\u001b[0m \u001b[0menumerate\u001b[0m\u001b[0;34m(\u001b[0m\u001b[0msrc_list\u001b[0m\u001b[0;34m)\u001b[0m\u001b[0;34m]\u001b[0m\u001b[0;34m\u001b[0m\u001b[0;34m\u001b[0m\u001b[0m\n\u001b[0m\u001b[1;32m    560\u001b[0m \u001b[0;34m\u001b[0m\u001b[0m\n\u001b[1;32m    561\u001b[0m         \u001b[0mresult_blocks\u001b[0m \u001b[0;34m=\u001b[0m \u001b[0;34m[\u001b[0m\u001b[0;34m]\u001b[0m\u001b[0;34m\u001b[0m\u001b[0;34m\u001b[0m\u001b[0m\n",
                        "\u001b[0;32m/opt/conda/envs/Python36/lib/python3.6/site-packages/pandas/core/internals/managers.py\u001b[0m in \u001b[0;36m<listcomp>\u001b[0;34m(.0)\u001b[0m\n\u001b[1;32m    557\u001b[0m             \u001b[0;32mreturn\u001b[0m \u001b[0m_compare_or_regex_match\u001b[0m\u001b[0;34m(\u001b[0m\u001b[0mvalues\u001b[0m\u001b[0;34m,\u001b[0m \u001b[0ms\u001b[0m\u001b[0;34m,\u001b[0m \u001b[0mregex\u001b[0m\u001b[0;34m)\u001b[0m\u001b[0;34m\u001b[0m\u001b[0;34m\u001b[0m\u001b[0m\n\u001b[1;32m    558\u001b[0m \u001b[0;34m\u001b[0m\u001b[0m\n\u001b[0;32m--> 559\u001b[0;31m         \u001b[0mmasks\u001b[0m \u001b[0;34m=\u001b[0m \u001b[0;34m[\u001b[0m\u001b[0mcomp\u001b[0m\u001b[0;34m(\u001b[0m\u001b[0ms\u001b[0m\u001b[0;34m,\u001b[0m \u001b[0mregex\u001b[0m\u001b[0;34m)\u001b[0m \u001b[0;32mfor\u001b[0m \u001b[0mi\u001b[0m\u001b[0;34m,\u001b[0m \u001b[0ms\u001b[0m \u001b[0;32min\u001b[0m \u001b[0menumerate\u001b[0m\u001b[0;34m(\u001b[0m\u001b[0msrc_list\u001b[0m\u001b[0;34m)\u001b[0m\u001b[0;34m]\u001b[0m\u001b[0;34m\u001b[0m\u001b[0;34m\u001b[0m\u001b[0m\n\u001b[0m\u001b[1;32m    560\u001b[0m \u001b[0;34m\u001b[0m\u001b[0m\n\u001b[1;32m    561\u001b[0m         \u001b[0mresult_blocks\u001b[0m \u001b[0;34m=\u001b[0m \u001b[0;34m[\u001b[0m\u001b[0;34m]\u001b[0m\u001b[0;34m\u001b[0m\u001b[0;34m\u001b[0m\u001b[0m\n",
                        "\u001b[0;32m/opt/conda/envs/Python36/lib/python3.6/site-packages/pandas/core/internals/managers.py\u001b[0m in \u001b[0;36mcomp\u001b[0;34m(s, regex)\u001b[0m\n\u001b[1;32m    555\u001b[0m                 return _compare_or_regex_match(maybe_convert_objects(values),\n\u001b[1;32m    556\u001b[0m                                                getattr(s, 'asm8'), regex)\n\u001b[0;32m--> 557\u001b[0;31m             \u001b[0;32mreturn\u001b[0m \u001b[0m_compare_or_regex_match\u001b[0m\u001b[0;34m(\u001b[0m\u001b[0mvalues\u001b[0m\u001b[0;34m,\u001b[0m \u001b[0ms\u001b[0m\u001b[0;34m,\u001b[0m \u001b[0mregex\u001b[0m\u001b[0;34m)\u001b[0m\u001b[0;34m\u001b[0m\u001b[0;34m\u001b[0m\u001b[0m\n\u001b[0m\u001b[1;32m    558\u001b[0m \u001b[0;34m\u001b[0m\u001b[0m\n\u001b[1;32m    559\u001b[0m         \u001b[0mmasks\u001b[0m \u001b[0;34m=\u001b[0m \u001b[0;34m[\u001b[0m\u001b[0mcomp\u001b[0m\u001b[0;34m(\u001b[0m\u001b[0ms\u001b[0m\u001b[0;34m,\u001b[0m \u001b[0mregex\u001b[0m\u001b[0;34m)\u001b[0m \u001b[0;32mfor\u001b[0m \u001b[0mi\u001b[0m\u001b[0;34m,\u001b[0m \u001b[0ms\u001b[0m \u001b[0;32min\u001b[0m \u001b[0menumerate\u001b[0m\u001b[0;34m(\u001b[0m\u001b[0msrc_list\u001b[0m\u001b[0;34m)\u001b[0m\u001b[0;34m]\u001b[0m\u001b[0;34m\u001b[0m\u001b[0;34m\u001b[0m\u001b[0m\n",
                        "\u001b[0;32m/opt/conda/envs/Python36/lib/python3.6/site-packages/pandas/core/internals/managers.py\u001b[0m in \u001b[0;36m_compare_or_regex_match\u001b[0;34m(a, b, regex)\u001b[0m\n\u001b[1;32m   1949\u001b[0m         raise TypeError(\n\u001b[1;32m   1950\u001b[0m             \"Cannot compare types {a!r} and {b!r}\".format(a=type_names[0],\n\u001b[0;32m-> 1951\u001b[0;31m                                                           b=type_names[1]))\n\u001b[0m\u001b[1;32m   1952\u001b[0m     \u001b[0;32mreturn\u001b[0m \u001b[0mresult\u001b[0m\u001b[0;34m\u001b[0m\u001b[0;34m\u001b[0m\u001b[0m\n\u001b[1;32m   1953\u001b[0m \u001b[0;34m\u001b[0m\u001b[0m\n",
                        "\u001b[0;31mTypeError\u001b[0m: Cannot compare types 'ndarray(dtype=int64)' and 'str'"
                    ]
                }
            ],
            "source": "#Lets execute the same replace command to change all other variables that show some type of control available to a 1:\ndf['Traffic Ctrls'].replace({'Traffic Signals':1}, inplace=True)\ndf['Traffic Ctrls'].replace({'Give Way Sign':1}, inplace=True)\ndf['Traffic Ctrls'].replace({'Stop Sign':1}, inplace=True)\ndf['Traffic Ctrls'].replace({'Roundabout':1}, inplace=True)\ndf['Traffic Ctrls'].replace({'Rail Xing - Boom':1}, inplace=True)\ndf['Traffic Ctrls'].replace({'Rail Xing - Flashing':1}, inplace=True)\ndf['Traffic Ctrls'].replace({'Rail Xing-Traffic Signals':1}, inplace=True)\ndf['Traffic Ctrls'].replace({'Other':1}, inplace=True)"
        },
        {
            "cell_type": "code",
            "execution_count": 66,
            "metadata": {},
            "outputs": [
                {
                    "data": {
                        "text/plain": "0    8786\n1    4155\nName: Traffic Ctrls, dtype: int64"
                    },
                    "execution_count": 66,
                    "metadata": {},
                    "output_type": "execute_result"
                }
            ],
            "source": "df['Traffic Ctrls'].value_counts()"
        },
        {
            "cell_type": "code",
            "execution_count": 67,
            "metadata": {},
            "outputs": [
                {
                    "data": {
                        "text/plain": "Traffic Ctrls  CSEF Severity\n0              1: PDO           0.638630\n               2: MI            0.289552\n               3: SI            0.061234\n               4: Fatal         0.010585\n1              1: PDO           0.616606\n               2: MI            0.334296\n               3: SI            0.045487\n               4: Fatal         0.003610\nName: CSEF Severity, dtype: float64"
                    },
                    "execution_count": 67,
                    "metadata": {},
                    "output_type": "execute_result"
                }
            ],
            "source": "df.groupby(['Traffic Ctrls'])['CSEF Severity'].value_counts(normalize=True)"
        },
        {
            "cell_type": "markdown",
            "metadata": {},
            "source": "    The presence of traffic controls also do not appear to be totally related to the severity of the crashes, so we will also drop it. "
        },
        {
            "cell_type": "code",
            "execution_count": 70,
            "metadata": {},
            "outputs": [],
            "source": "df.drop(['Traffic Ctrls'], axis=1, inplace=True)"
        },
        {
            "cell_type": "code",
            "execution_count": 71,
            "metadata": {},
            "outputs": [
                {
                    "data": {
                        "text/html": "<div>\n<style scoped>\n    .dataframe tbody tr th:only-of-type {\n        vertical-align: middle;\n    }\n\n    .dataframe tbody tr th {\n        vertical-align: top;\n    }\n\n    .dataframe thead th {\n        text-align: right;\n    }\n</style>\n<table border=\"1\" class=\"dataframe\">\n  <thead>\n    <tr style=\"text-align: right;\">\n      <th></th>\n      <th>Stats Area</th>\n      <th>Suburb</th>\n      <th>Total Units</th>\n      <th>Day</th>\n      <th>Area Speed</th>\n      <th>Position Type</th>\n      <th>Weather Cond</th>\n      <th>DayNight</th>\n      <th>Crash Type</th>\n      <th>CSEF Severity</th>\n      <th>Under Influence</th>\n    </tr>\n  </thead>\n  <tbody>\n    <tr>\n      <th>0</th>\n      <td>2 Metropolitan</td>\n      <td>HAMPSTEAD GARDENS</td>\n      <td>2</td>\n      <td>Wednesday</td>\n      <td>60</td>\n      <td>Cross Road</td>\n      <td>Not Raining</td>\n      <td>Daylight</td>\n      <td>Right Angle</td>\n      <td>1: PDO</td>\n      <td>0</td>\n    </tr>\n    <tr>\n      <th>1</th>\n      <td>2 Metropolitan</td>\n      <td>DRY CREEK</td>\n      <td>2</td>\n      <td>Tuesday</td>\n      <td>90</td>\n      <td>Divided Road</td>\n      <td>Not Raining</td>\n      <td>Night</td>\n      <td>Rear End</td>\n      <td>1: PDO</td>\n      <td>0</td>\n    </tr>\n    <tr>\n      <th>2</th>\n      <td>2 Metropolitan</td>\n      <td>MILE END</td>\n      <td>2</td>\n      <td>Tuesday</td>\n      <td>60</td>\n      <td>Divided Road</td>\n      <td>Not Raining</td>\n      <td>Night</td>\n      <td>Hit Pedestrian</td>\n      <td>2: MI</td>\n      <td>0</td>\n    </tr>\n    <tr>\n      <th>3</th>\n      <td>2 Metropolitan</td>\n      <td>PARALOWIE</td>\n      <td>2</td>\n      <td>Tuesday</td>\n      <td>50</td>\n      <td>Not Divided</td>\n      <td>Not Raining</td>\n      <td>Night</td>\n      <td>Hit Fixed Object</td>\n      <td>3: SI</td>\n      <td>0</td>\n    </tr>\n    <tr>\n      <th>4</th>\n      <td>2 Metropolitan</td>\n      <td>MOUNT BARKER</td>\n      <td>2</td>\n      <td>Tuesday</td>\n      <td>110</td>\n      <td>Divided Road</td>\n      <td>Not Raining</td>\n      <td>Night</td>\n      <td>Hit Animal</td>\n      <td>1: PDO</td>\n      <td>0</td>\n    </tr>\n  </tbody>\n</table>\n</div>",
                        "text/plain": "       Stats Area             Suburb  Total Units        Day  Area Speed  \\\n0  2 Metropolitan  HAMPSTEAD GARDENS            2  Wednesday          60   \n1  2 Metropolitan          DRY CREEK            2    Tuesday          90   \n2  2 Metropolitan           MILE END            2    Tuesday          60   \n3  2 Metropolitan          PARALOWIE            2    Tuesday          50   \n4  2 Metropolitan       MOUNT BARKER            2    Tuesday         110   \n\n  Position Type Weather Cond  DayNight        Crash Type CSEF Severity  \\\n0    Cross Road  Not Raining  Daylight       Right Angle        1: PDO   \n1  Divided Road  Not Raining     Night          Rear End        1: PDO   \n2  Divided Road  Not Raining     Night    Hit Pedestrian         2: MI   \n3   Not Divided  Not Raining     Night  Hit Fixed Object         3: SI   \n4  Divided Road  Not Raining     Night        Hit Animal        1: PDO   \n\n   Under Influence  \n0                0  \n1                0  \n2                0  \n3                0  \n4                0  "
                    },
                    "execution_count": 71,
                    "metadata": {},
                    "output_type": "execute_result"
                }
            ],
            "source": "df.head()"
        },
        {
            "cell_type": "code",
            "execution_count": 72,
            "metadata": {
                "scrolled": true
            },
            "outputs": [
                {
                    "data": {
                        "text/plain": "Daylight    9917\nNight       3024\nName: DayNight, dtype: int64"
                    },
                    "execution_count": 72,
                    "metadata": {},
                    "output_type": "execute_result"
                }
            ],
            "source": "#Lets check the count for the Light (Day/Night) conditions on the day of collision:\n\ndf['DayNight'].value_counts()"
        },
        {
            "cell_type": "code",
            "execution_count": 74,
            "metadata": {},
            "outputs": [
                {
                    "data": {
                        "text/plain": "DayNight  CSEF Severity\nDaylight  1: PDO           0.625693\n          2: MI            0.314611\n          3: SI            0.051830\n          4: Fatal         0.007865\nNight     1: PDO           0.650794\n          2: MI            0.268849\n          3: SI            0.070437\n          4: Fatal         0.009921\nName: CSEF Severity, dtype: float64"
                    },
                    "execution_count": 74,
                    "metadata": {},
                    "output_type": "execute_result"
                }
            ],
            "source": "#Lets check the percentages of accidents and the influence of day light on the severity of them: \ndf.groupby(['DayNight'])['CSEF Severity'].value_counts(normalize=True)"
        },
        {
            "cell_type": "markdown",
            "metadata": {},
            "source": "Does not seem to be clearly related, but we will keep it for now. "
        },
        {
            "cell_type": "code",
            "execution_count": 85,
            "metadata": {},
            "outputs": [
                {
                    "data": {
                        "text/html": "<div>\n<style scoped>\n    .dataframe tbody tr th:only-of-type {\n        vertical-align: middle;\n    }\n\n    .dataframe tbody tr th {\n        vertical-align: top;\n    }\n\n    .dataframe thead th {\n        text-align: right;\n    }\n</style>\n<table border=\"1\" class=\"dataframe\">\n  <thead>\n    <tr style=\"text-align: right;\">\n      <th></th>\n      <th>Stats Area</th>\n      <th>Suburb</th>\n      <th>Total Units</th>\n      <th>Day</th>\n      <th>Area Speed</th>\n      <th>Position Type</th>\n      <th>Weather Cond</th>\n      <th>DayNight</th>\n      <th>Crash Type</th>\n      <th>CSEF Severity</th>\n      <th>Under Influence</th>\n    </tr>\n  </thead>\n  <tbody>\n    <tr>\n      <th>0</th>\n      <td>2 Metropolitan</td>\n      <td>HAMPSTEAD GARDENS</td>\n      <td>2</td>\n      <td>Wednesday</td>\n      <td>60</td>\n      <td>Cross Road</td>\n      <td>Not Raining</td>\n      <td>Daylight</td>\n      <td>Right Angle</td>\n      <td>1: PDO</td>\n      <td>0</td>\n    </tr>\n    <tr>\n      <th>1</th>\n      <td>2 Metropolitan</td>\n      <td>DRY CREEK</td>\n      <td>2</td>\n      <td>Tuesday</td>\n      <td>90</td>\n      <td>Divided Road</td>\n      <td>Not Raining</td>\n      <td>Night</td>\n      <td>Rear End</td>\n      <td>1: PDO</td>\n      <td>0</td>\n    </tr>\n    <tr>\n      <th>2</th>\n      <td>2 Metropolitan</td>\n      <td>MILE END</td>\n      <td>2</td>\n      <td>Tuesday</td>\n      <td>60</td>\n      <td>Divided Road</td>\n      <td>Not Raining</td>\n      <td>Night</td>\n      <td>Hit Pedestrian</td>\n      <td>2: MI</td>\n      <td>0</td>\n    </tr>\n    <tr>\n      <th>3</th>\n      <td>2 Metropolitan</td>\n      <td>PARALOWIE</td>\n      <td>2</td>\n      <td>Tuesday</td>\n      <td>50</td>\n      <td>Not Divided</td>\n      <td>Not Raining</td>\n      <td>Night</td>\n      <td>Hit Fixed Object</td>\n      <td>3: SI</td>\n      <td>0</td>\n    </tr>\n    <tr>\n      <th>4</th>\n      <td>2 Metropolitan</td>\n      <td>MOUNT BARKER</td>\n      <td>2</td>\n      <td>Tuesday</td>\n      <td>110</td>\n      <td>Divided Road</td>\n      <td>Not Raining</td>\n      <td>Night</td>\n      <td>Hit Animal</td>\n      <td>1: PDO</td>\n      <td>0</td>\n    </tr>\n  </tbody>\n</table>\n</div>",
                        "text/plain": "       Stats Area             Suburb  Total Units        Day  Area Speed  \\\n0  2 Metropolitan  HAMPSTEAD GARDENS            2  Wednesday          60   \n1  2 Metropolitan          DRY CREEK            2    Tuesday          90   \n2  2 Metropolitan           MILE END            2    Tuesday          60   \n3  2 Metropolitan          PARALOWIE            2    Tuesday          50   \n4  2 Metropolitan       MOUNT BARKER            2    Tuesday         110   \n\n  Position Type Weather Cond  DayNight        Crash Type CSEF Severity  \\\n0    Cross Road  Not Raining  Daylight       Right Angle        1: PDO   \n1  Divided Road  Not Raining     Night          Rear End        1: PDO   \n2  Divided Road  Not Raining     Night    Hit Pedestrian         2: MI   \n3   Not Divided  Not Raining     Night  Hit Fixed Object         3: SI   \n4  Divided Road  Not Raining     Night        Hit Animal        1: PDO   \n\n   Under Influence  \n0                0  \n1                0  \n2                0  \n3                0  \n4                0  "
                    },
                    "execution_count": 85,
                    "metadata": {},
                    "output_type": "execute_result"
                }
            ],
            "source": "df.head()"
        },
        {
            "cell_type": "code",
            "execution_count": 86,
            "metadata": {},
            "outputs": [
                {
                    "data": {
                        "text/plain": "<matplotlib.axes._subplots.AxesSubplot at 0x7f32c7872588>"
                    },
                    "execution_count": 86,
                    "metadata": {},
                    "output_type": "execute_result"
                },
                {
                    "data": {
                        "image/png": "[encoded data removed]",
                        "text/plain": "<Figure size 432x288 with 1 Axes>"
                    },
                    "metadata": {},
                    "output_type": "display_data"
                }
            ],
            "source": "#Lets Boxplot to see how the number of units involved relates to the CSEF Severity:\nsns.boxplot(x='Total Units', y='CSEF Severity', data=df)"
        },
        {
            "cell_type": "markdown",
            "metadata": {},
            "source": "The above distribution shows that the great majority of the accidents involving a fatality or other injuries involve either 2 or 3 vehicles, so we will drop all rows containing different values"
        },
        {
            "cell_type": "code",
            "execution_count": 88,
            "metadata": {},
            "outputs": [],
            "source": "index_UNT = df[df['Total Units'] == 1].index\n#Drop the index_UNT\ndf.drop(index_UNT, inplace=True)"
        },
        {
            "cell_type": "code",
            "execution_count": 92,
            "metadata": {},
            "outputs": [],
            "source": "index_UNT2 = df[df['Total Units'] > 4].index\ndf.drop(index_UNT2, inplace=True)"
        },
        {
            "cell_type": "code",
            "execution_count": 93,
            "metadata": {},
            "outputs": [
                {
                    "data": {
                        "text/plain": "2    10381\n3     1580\n4      298\nName: Total Units, dtype: int64"
                    },
                    "execution_count": 93,
                    "metadata": {},
                    "output_type": "execute_result"
                }
            ],
            "source": "df['Total Units'].value_counts()"
        },
        {
            "cell_type": "code",
            "execution_count": 94,
            "metadata": {},
            "outputs": [],
            "source": "index_UNT3 = df[df['Total Units'] == 4].index\ndf.drop(index_UNT3, inplace=True)"
        },
        {
            "cell_type": "code",
            "execution_count": 95,
            "metadata": {},
            "outputs": [
                {
                    "data": {
                        "text/plain": "2    10381\n3     1580\nName: Total Units, dtype: int64"
                    },
                    "execution_count": 95,
                    "metadata": {},
                    "output_type": "execute_result"
                }
            ],
            "source": "df['Total Units'].value_counts()"
        },
        {
            "cell_type": "code",
            "execution_count": 97,
            "metadata": {},
            "outputs": [
                {
                    "data": {
                        "text/plain": "Total Units  CSEF Severity\n2            1: PDO           0.653405\n             2: MI            0.291590\n             3: SI            0.048550\n             4: Fatal         0.006454\n3            1: PDO           0.601266\n             2: MI            0.336076\n             3: SI            0.045570\n             4: Fatal         0.017089\nName: CSEF Severity, dtype: float64"
                    },
                    "execution_count": 97,
                    "metadata": {},
                    "output_type": "execute_result"
                }
            ],
            "source": "df.groupby(['Total Units'])['CSEF Severity'].value_counts(normalize=True)"
        },
        {
            "cell_type": "code",
            "execution_count": 98,
            "metadata": {},
            "outputs": [
                {
                    "data": {
                        "text/html": "<div>\n<style scoped>\n    .dataframe tbody tr th:only-of-type {\n        vertical-align: middle;\n    }\n\n    .dataframe tbody tr th {\n        vertical-align: top;\n    }\n\n    .dataframe thead th {\n        text-align: right;\n    }\n</style>\n<table border=\"1\" class=\"dataframe\">\n  <thead>\n    <tr style=\"text-align: right;\">\n      <th></th>\n      <th>Stats Area</th>\n      <th>Suburb</th>\n      <th>Total Units</th>\n      <th>Day</th>\n      <th>Area Speed</th>\n      <th>Position Type</th>\n      <th>Weather Cond</th>\n      <th>DayNight</th>\n      <th>Crash Type</th>\n      <th>CSEF Severity</th>\n      <th>Under Influence</th>\n    </tr>\n  </thead>\n  <tbody>\n    <tr>\n      <th>0</th>\n      <td>2 Metropolitan</td>\n      <td>HAMPSTEAD GARDENS</td>\n      <td>2</td>\n      <td>Wednesday</td>\n      <td>60</td>\n      <td>Cross Road</td>\n      <td>Not Raining</td>\n      <td>Daylight</td>\n      <td>Right Angle</td>\n      <td>1: PDO</td>\n      <td>0</td>\n    </tr>\n    <tr>\n      <th>1</th>\n      <td>2 Metropolitan</td>\n      <td>DRY CREEK</td>\n      <td>2</td>\n      <td>Tuesday</td>\n      <td>90</td>\n      <td>Divided Road</td>\n      <td>Not Raining</td>\n      <td>Night</td>\n      <td>Rear End</td>\n      <td>1: PDO</td>\n      <td>0</td>\n    </tr>\n    <tr>\n      <th>2</th>\n      <td>2 Metropolitan</td>\n      <td>MILE END</td>\n      <td>2</td>\n      <td>Tuesday</td>\n      <td>60</td>\n      <td>Divided Road</td>\n      <td>Not Raining</td>\n      <td>Night</td>\n      <td>Hit Pedestrian</td>\n      <td>2: MI</td>\n      <td>0</td>\n    </tr>\n    <tr>\n      <th>3</th>\n      <td>2 Metropolitan</td>\n      <td>PARALOWIE</td>\n      <td>2</td>\n      <td>Tuesday</td>\n      <td>50</td>\n      <td>Not Divided</td>\n      <td>Not Raining</td>\n      <td>Night</td>\n      <td>Hit Fixed Object</td>\n      <td>3: SI</td>\n      <td>0</td>\n    </tr>\n    <tr>\n      <th>4</th>\n      <td>2 Metropolitan</td>\n      <td>MOUNT BARKER</td>\n      <td>2</td>\n      <td>Tuesday</td>\n      <td>110</td>\n      <td>Divided Road</td>\n      <td>Not Raining</td>\n      <td>Night</td>\n      <td>Hit Animal</td>\n      <td>1: PDO</td>\n      <td>0</td>\n    </tr>\n  </tbody>\n</table>\n</div>",
                        "text/plain": "       Stats Area             Suburb  Total Units        Day  Area Speed  \\\n0  2 Metropolitan  HAMPSTEAD GARDENS            2  Wednesday          60   \n1  2 Metropolitan          DRY CREEK            2    Tuesday          90   \n2  2 Metropolitan           MILE END            2    Tuesday          60   \n3  2 Metropolitan          PARALOWIE            2    Tuesday          50   \n4  2 Metropolitan       MOUNT BARKER            2    Tuesday         110   \n\n  Position Type Weather Cond  DayNight        Crash Type CSEF Severity  \\\n0    Cross Road  Not Raining  Daylight       Right Angle        1: PDO   \n1  Divided Road  Not Raining     Night          Rear End        1: PDO   \n2  Divided Road  Not Raining     Night    Hit Pedestrian         2: MI   \n3   Not Divided  Not Raining     Night  Hit Fixed Object         3: SI   \n4  Divided Road  Not Raining     Night        Hit Animal        1: PDO   \n\n   Under Influence  \n0                0  \n1                0  \n2                0  \n3                0  \n4                0  "
                    },
                    "execution_count": 98,
                    "metadata": {},
                    "output_type": "execute_result"
                }
            ],
            "source": "df.head()"
        },
        {
            "cell_type": "code",
            "execution_count": 101,
            "metadata": {},
            "outputs": [
                {
                    "data": {
                        "text/html": "<div>\n<style scoped>\n    .dataframe tbody tr th:only-of-type {\n        vertical-align: middle;\n    }\n\n    .dataframe tbody tr th {\n        vertical-align: top;\n    }\n\n    .dataframe thead th {\n        text-align: right;\n    }\n</style>\n<table border=\"1\" class=\"dataframe\">\n  <thead>\n    <tr style=\"text-align: right;\">\n      <th></th>\n      <th>Stats Area</th>\n      <th>Suburb</th>\n      <th>Total Units</th>\n      <th>Day</th>\n      <th>Area Speed</th>\n      <th>Position Type</th>\n      <th>Weather Cond</th>\n      <th>DayNight</th>\n      <th>CSEF Severity</th>\n      <th>Under Influence</th>\n    </tr>\n  </thead>\n  <tbody>\n    <tr>\n      <th>0</th>\n      <td>2 Metropolitan</td>\n      <td>HAMPSTEAD GARDENS</td>\n      <td>2</td>\n      <td>Wednesday</td>\n      <td>60</td>\n      <td>Cross Road</td>\n      <td>Not Raining</td>\n      <td>Daylight</td>\n      <td>1: PDO</td>\n      <td>0</td>\n    </tr>\n    <tr>\n      <th>1</th>\n      <td>2 Metropolitan</td>\n      <td>DRY CREEK</td>\n      <td>2</td>\n      <td>Tuesday</td>\n      <td>90</td>\n      <td>Divided Road</td>\n      <td>Not Raining</td>\n      <td>Night</td>\n      <td>1: PDO</td>\n      <td>0</td>\n    </tr>\n    <tr>\n      <th>2</th>\n      <td>2 Metropolitan</td>\n      <td>MILE END</td>\n      <td>2</td>\n      <td>Tuesday</td>\n      <td>60</td>\n      <td>Divided Road</td>\n      <td>Not Raining</td>\n      <td>Night</td>\n      <td>2: MI</td>\n      <td>0</td>\n    </tr>\n    <tr>\n      <th>3</th>\n      <td>2 Metropolitan</td>\n      <td>PARALOWIE</td>\n      <td>2</td>\n      <td>Tuesday</td>\n      <td>50</td>\n      <td>Not Divided</td>\n      <td>Not Raining</td>\n      <td>Night</td>\n      <td>3: SI</td>\n      <td>0</td>\n    </tr>\n    <tr>\n      <th>4</th>\n      <td>2 Metropolitan</td>\n      <td>MOUNT BARKER</td>\n      <td>2</td>\n      <td>Tuesday</td>\n      <td>110</td>\n      <td>Divided Road</td>\n      <td>Not Raining</td>\n      <td>Night</td>\n      <td>1: PDO</td>\n      <td>0</td>\n    </tr>\n  </tbody>\n</table>\n</div>",
                        "text/plain": "       Stats Area             Suburb  Total Units        Day  Area Speed  \\\n0  2 Metropolitan  HAMPSTEAD GARDENS            2  Wednesday          60   \n1  2 Metropolitan          DRY CREEK            2    Tuesday          90   \n2  2 Metropolitan           MILE END            2    Tuesday          60   \n3  2 Metropolitan          PARALOWIE            2    Tuesday          50   \n4  2 Metropolitan       MOUNT BARKER            2    Tuesday         110   \n\n  Position Type Weather Cond  DayNight CSEF Severity  Under Influence  \n0    Cross Road  Not Raining  Daylight        1: PDO                0  \n1  Divided Road  Not Raining     Night        1: PDO                0  \n2  Divided Road  Not Raining     Night         2: MI                0  \n3   Not Divided  Not Raining     Night         3: SI                0  \n4  Divided Road  Not Raining     Night        1: PDO                0  "
                    },
                    "execution_count": 101,
                    "metadata": {},
                    "output_type": "execute_result"
                }
            ],
            "source": "#For the purpose of this study I will drop another vaiable - The Crash Type\ndf.drop(['Crash Type'], axis=1, inplace=True)\ndf.head()"
        },
        {
            "cell_type": "code",
            "execution_count": 102,
            "metadata": {},
            "outputs": [
                {
                    "data": {
                        "text/plain": "Not Raining    11136\nRaining          798\nUnknown           27\nName: Weather Cond, dtype: int64"
                    },
                    "execution_count": 102,
                    "metadata": {},
                    "output_type": "execute_result"
                }
            ],
            "source": "#Lets now look into the weather condition count\ndf['Weather Cond'].value_counts()"
        },
        {
            "cell_type": "code",
            "execution_count": 103,
            "metadata": {},
            "outputs": [],
            "source": "#As before, we will discard any unknown values first\nindex_WTH = df[df['Weather Cond'] == 'Unknown'].index\ndf.drop(index_WTH, inplace=True)"
        },
        {
            "cell_type": "code",
            "execution_count": 104,
            "metadata": {},
            "outputs": [
                {
                    "data": {
                        "text/plain": "Not Raining    11136\nRaining          798\nName: Weather Cond, dtype: int64"
                    },
                    "execution_count": 104,
                    "metadata": {},
                    "output_type": "execute_result"
                }
            ],
            "source": "df['Weather Cond'].value_counts()"
        },
        {
            "cell_type": "code",
            "execution_count": 106,
            "metadata": {},
            "outputs": [
                {
                    "data": {
                        "text/plain": "Weather Cond  CSEF Severity\nNot Raining   1: PDO           0.646013\n              2: MI            0.296875\n              3: SI            0.048851\n              4: Fatal         0.008261\nRaining       1: PDO           0.651629\n              2: MI            0.307018\n              3: SI            0.040100\n              4: Fatal         0.001253\nName: CSEF Severity, dtype: float64"
                    },
                    "execution_count": 106,
                    "metadata": {},
                    "output_type": "execute_result"
                }
            ],
            "source": "df.groupby(['Weather Cond'])['CSEF Severity'].value_counts(normalize=True)"
        },
        {
            "cell_type": "markdown",
            "metadata": {},
            "source": "Does not seem the weather conditions have a strong correlation, but we will keep the variable. "
        },
        {
            "cell_type": "code",
            "execution_count": 107,
            "metadata": {},
            "outputs": [],
            "source": "#I will now convert Day Night into numbers where 1=day and 2=night\ndf['DayNight'].replace({'Daylight':1}, inplace=True)\ndf['DayNight'].replace({'Night':2}, inplace=True)"
        },
        {
            "cell_type": "code",
            "execution_count": 109,
            "metadata": {},
            "outputs": [
                {
                    "data": {
                        "text/plain": "1    9162\n2    2772\nName: DayNight, dtype: int64"
                    },
                    "execution_count": 109,
                    "metadata": {},
                    "output_type": "execute_result"
                }
            ],
            "source": "df['DayNight'].value_counts()"
        },
        {
            "cell_type": "code",
            "execution_count": 110,
            "metadata": {},
            "outputs": [],
            "source": "#I will repeat the same to convert Not Raining = 0 and Raining = 1\ndf['Weather Cond'].replace({'Not Raining':0}, inplace=True)\ndf['Weather Cond'].replace({'Raining':1}, inplace=True)"
        },
        {
            "cell_type": "code",
            "execution_count": 111,
            "metadata": {},
            "outputs": [
                {
                    "data": {
                        "text/plain": "0    11136\n1      798\nName: Weather Cond, dtype: int64"
                    },
                    "execution_count": 111,
                    "metadata": {},
                    "output_type": "execute_result"
                }
            ],
            "source": "df['Weather Cond'].value_counts()"
        },
        {
            "cell_type": "code",
            "execution_count": 112,
            "metadata": {},
            "outputs": [
                {
                    "data": {
                        "text/html": "<div>\n<style scoped>\n    .dataframe tbody tr th:only-of-type {\n        vertical-align: middle;\n    }\n\n    .dataframe tbody tr th {\n        vertical-align: top;\n    }\n\n    .dataframe thead th {\n        text-align: right;\n    }\n</style>\n<table border=\"1\" class=\"dataframe\">\n  <thead>\n    <tr style=\"text-align: right;\">\n      <th></th>\n      <th>Stats Area</th>\n      <th>Suburb</th>\n      <th>Total Units</th>\n      <th>Day</th>\n      <th>Area Speed</th>\n      <th>Position Type</th>\n      <th>Weather Cond</th>\n      <th>DayNight</th>\n      <th>CSEF Severity</th>\n      <th>Under Influence</th>\n    </tr>\n  </thead>\n  <tbody>\n    <tr>\n      <th>0</th>\n      <td>2 Metropolitan</td>\n      <td>HAMPSTEAD GARDENS</td>\n      <td>2</td>\n      <td>Wednesday</td>\n      <td>60</td>\n      <td>Cross Road</td>\n      <td>0</td>\n      <td>1</td>\n      <td>1: PDO</td>\n      <td>0</td>\n    </tr>\n    <tr>\n      <th>1</th>\n      <td>2 Metropolitan</td>\n      <td>DRY CREEK</td>\n      <td>2</td>\n      <td>Tuesday</td>\n      <td>90</td>\n      <td>Divided Road</td>\n      <td>0</td>\n      <td>2</td>\n      <td>1: PDO</td>\n      <td>0</td>\n    </tr>\n    <tr>\n      <th>2</th>\n      <td>2 Metropolitan</td>\n      <td>MILE END</td>\n      <td>2</td>\n      <td>Tuesday</td>\n      <td>60</td>\n      <td>Divided Road</td>\n      <td>0</td>\n      <td>2</td>\n      <td>2: MI</td>\n      <td>0</td>\n    </tr>\n    <tr>\n      <th>3</th>\n      <td>2 Metropolitan</td>\n      <td>PARALOWIE</td>\n      <td>2</td>\n      <td>Tuesday</td>\n      <td>50</td>\n      <td>Not Divided</td>\n      <td>0</td>\n      <td>2</td>\n      <td>3: SI</td>\n      <td>0</td>\n    </tr>\n    <tr>\n      <th>4</th>\n      <td>2 Metropolitan</td>\n      <td>MOUNT BARKER</td>\n      <td>2</td>\n      <td>Tuesday</td>\n      <td>110</td>\n      <td>Divided Road</td>\n      <td>0</td>\n      <td>2</td>\n      <td>1: PDO</td>\n      <td>0</td>\n    </tr>\n  </tbody>\n</table>\n</div>",
                        "text/plain": "       Stats Area             Suburb  Total Units        Day  Area Speed  \\\n0  2 Metropolitan  HAMPSTEAD GARDENS            2  Wednesday          60   \n1  2 Metropolitan          DRY CREEK            2    Tuesday          90   \n2  2 Metropolitan           MILE END            2    Tuesday          60   \n3  2 Metropolitan          PARALOWIE            2    Tuesday          50   \n4  2 Metropolitan       MOUNT BARKER            2    Tuesday         110   \n\n  Position Type  Weather Cond  DayNight CSEF Severity  Under Influence  \n0    Cross Road             0         1        1: PDO                0  \n1  Divided Road             0         2        1: PDO                0  \n2  Divided Road             0         2         2: MI                0  \n3   Not Divided             0         2         3: SI                0  \n4  Divided Road             0         2        1: PDO                0  "
                    },
                    "execution_count": 112,
                    "metadata": {},
                    "output_type": "execute_result"
                }
            ],
            "source": "df.head()"
        },
        {
            "cell_type": "code",
            "execution_count": 114,
            "metadata": {},
            "outputs": [
                {
                    "data": {
                        "text/plain": "Stats Area      CSEF Severity\n1 City          1: PDO           0.660407\n                2: MI            0.298905\n                3: SI            0.039124\n                4: Fatal         0.001565\n2 Metropolitan  1: PDO           0.654141\n                2: MI            0.301014\n                3: SI            0.040647\n                4: Fatal         0.004198\n3 Country       1: PDO           0.590969\n                2: MI            0.274869\n                3: SI            0.100785\n                4: Fatal         0.033377\nName: CSEF Severity, dtype: float64"
                    },
                    "execution_count": 114,
                    "metadata": {},
                    "output_type": "execute_result"
                }
            ],
            "source": "#Lets check the Stats Area Now:\ndf.groupby(['Stats Area'])['CSEF Severity'].value_counts(normalize=True)"
        },
        {
            "cell_type": "code",
            "execution_count": 115,
            "metadata": {},
            "outputs": [],
            "source": "#We will also replace the Stats Area with numbers, where 1=City, 2=Metropolitan and 3=Country\ndf['Stats Area'].replace({'1 City':1}, inplace=True)\ndf['Stats Area'].replace({'2 Metropolitan':2}, inplace=True)\ndf['Stats Area'].replace({'3 Country':3}, inplace=True)"
        },
        {
            "cell_type": "code",
            "execution_count": 116,
            "metadata": {},
            "outputs": [
                {
                    "data": {
                        "text/plain": "2    9767\n3    1528\n1     639\nName: Stats Area, dtype: int64"
                    },
                    "execution_count": 116,
                    "metadata": {},
                    "output_type": "execute_result"
                }
            ],
            "source": "df['Stats Area'].value_counts()"
        },
        {
            "cell_type": "code",
            "execution_count": 117,
            "metadata": {},
            "outputs": [
                {
                    "data": {
                        "text/html": "<div>\n<style scoped>\n    .dataframe tbody tr th:only-of-type {\n        vertical-align: middle;\n    }\n\n    .dataframe tbody tr th {\n        vertical-align: top;\n    }\n\n    .dataframe thead th {\n        text-align: right;\n    }\n</style>\n<table border=\"1\" class=\"dataframe\">\n  <thead>\n    <tr style=\"text-align: right;\">\n      <th></th>\n      <th>Stats Area</th>\n      <th>Suburb</th>\n      <th>Total Units</th>\n      <th>Day</th>\n      <th>Area Speed</th>\n      <th>Position Type</th>\n      <th>Weather Cond</th>\n      <th>DayNight</th>\n      <th>CSEF Severity</th>\n      <th>Under Influence</th>\n    </tr>\n  </thead>\n  <tbody>\n    <tr>\n      <th>0</th>\n      <td>2</td>\n      <td>HAMPSTEAD GARDENS</td>\n      <td>2</td>\n      <td>Wednesday</td>\n      <td>60</td>\n      <td>Cross Road</td>\n      <td>0</td>\n      <td>1</td>\n      <td>1: PDO</td>\n      <td>0</td>\n    </tr>\n    <tr>\n      <th>1</th>\n      <td>2</td>\n      <td>DRY CREEK</td>\n      <td>2</td>\n      <td>Tuesday</td>\n      <td>90</td>\n      <td>Divided Road</td>\n      <td>0</td>\n      <td>2</td>\n      <td>1: PDO</td>\n      <td>0</td>\n    </tr>\n    <tr>\n      <th>2</th>\n      <td>2</td>\n      <td>MILE END</td>\n      <td>2</td>\n      <td>Tuesday</td>\n      <td>60</td>\n      <td>Divided Road</td>\n      <td>0</td>\n      <td>2</td>\n      <td>2: MI</td>\n      <td>0</td>\n    </tr>\n    <tr>\n      <th>3</th>\n      <td>2</td>\n      <td>PARALOWIE</td>\n      <td>2</td>\n      <td>Tuesday</td>\n      <td>50</td>\n      <td>Not Divided</td>\n      <td>0</td>\n      <td>2</td>\n      <td>3: SI</td>\n      <td>0</td>\n    </tr>\n    <tr>\n      <th>4</th>\n      <td>2</td>\n      <td>MOUNT BARKER</td>\n      <td>2</td>\n      <td>Tuesday</td>\n      <td>110</td>\n      <td>Divided Road</td>\n      <td>0</td>\n      <td>2</td>\n      <td>1: PDO</td>\n      <td>0</td>\n    </tr>\n  </tbody>\n</table>\n</div>",
                        "text/plain": "   Stats Area             Suburb  Total Units        Day  Area Speed  \\\n0           2  HAMPSTEAD GARDENS            2  Wednesday          60   \n1           2          DRY CREEK            2    Tuesday          90   \n2           2           MILE END            2    Tuesday          60   \n3           2          PARALOWIE            2    Tuesday          50   \n4           2       MOUNT BARKER            2    Tuesday         110   \n\n  Position Type  Weather Cond  DayNight CSEF Severity  Under Influence  \n0    Cross Road             0         1        1: PDO                0  \n1  Divided Road             0         2        1: PDO                0  \n2  Divided Road             0         2         2: MI                0  \n3   Not Divided             0         2         3: SI                0  \n4  Divided Road             0         2        1: PDO                0  "
                    },
                    "execution_count": 117,
                    "metadata": {},
                    "output_type": "execute_result"
                }
            ],
            "source": "df.head()"
        },
        {
            "cell_type": "code",
            "execution_count": 118,
            "metadata": {},
            "outputs": [],
            "source": "#I will also replace Day of the Week to reflect the following Monday=1, Tuesday=2, Wednesday=3, Thursday=4, Friday=5, Saturday=6, Sunday=7\ndf['Day'].replace({'Monday':1, 'Tuesday':2, 'Wednesday':3, 'Thursday':4, 'Friday':5, 'Saturday':6, 'Sunday':7}, inplace=True)"
        },
        {
            "cell_type": "code",
            "execution_count": 119,
            "metadata": {},
            "outputs": [
                {
                    "data": {
                        "text/plain": "5    1974\n3    1957\n4    1930\n2    1908\n1    1693\n6    1377\n7    1095\nName: Day, dtype: int64"
                    },
                    "execution_count": 119,
                    "metadata": {},
                    "output_type": "execute_result"
                }
            ],
            "source": "df['Day'].value_counts()"
        },
        {
            "cell_type": "code",
            "execution_count": 120,
            "metadata": {},
            "outputs": [
                {
                    "data": {
                        "text/html": "<div>\n<style scoped>\n    .dataframe tbody tr th:only-of-type {\n        vertical-align: middle;\n    }\n\n    .dataframe tbody tr th {\n        vertical-align: top;\n    }\n\n    .dataframe thead th {\n        text-align: right;\n    }\n</style>\n<table border=\"1\" class=\"dataframe\">\n  <thead>\n    <tr style=\"text-align: right;\">\n      <th></th>\n      <th>Stats Area</th>\n      <th>Suburb</th>\n      <th>Total Units</th>\n      <th>Day</th>\n      <th>Area Speed</th>\n      <th>Position Type</th>\n      <th>Weather Cond</th>\n      <th>DayNight</th>\n      <th>CSEF Severity</th>\n      <th>Under Influence</th>\n    </tr>\n  </thead>\n  <tbody>\n    <tr>\n      <th>0</th>\n      <td>2</td>\n      <td>HAMPSTEAD GARDENS</td>\n      <td>2</td>\n      <td>3</td>\n      <td>60</td>\n      <td>Cross Road</td>\n      <td>0</td>\n      <td>1</td>\n      <td>1: PDO</td>\n      <td>0</td>\n    </tr>\n    <tr>\n      <th>1</th>\n      <td>2</td>\n      <td>DRY CREEK</td>\n      <td>2</td>\n      <td>2</td>\n      <td>90</td>\n      <td>Divided Road</td>\n      <td>0</td>\n      <td>2</td>\n      <td>1: PDO</td>\n      <td>0</td>\n    </tr>\n    <tr>\n      <th>2</th>\n      <td>2</td>\n      <td>MILE END</td>\n      <td>2</td>\n      <td>2</td>\n      <td>60</td>\n      <td>Divided Road</td>\n      <td>0</td>\n      <td>2</td>\n      <td>2: MI</td>\n      <td>0</td>\n    </tr>\n    <tr>\n      <th>3</th>\n      <td>2</td>\n      <td>PARALOWIE</td>\n      <td>2</td>\n      <td>2</td>\n      <td>50</td>\n      <td>Not Divided</td>\n      <td>0</td>\n      <td>2</td>\n      <td>3: SI</td>\n      <td>0</td>\n    </tr>\n    <tr>\n      <th>4</th>\n      <td>2</td>\n      <td>MOUNT BARKER</td>\n      <td>2</td>\n      <td>2</td>\n      <td>110</td>\n      <td>Divided Road</td>\n      <td>0</td>\n      <td>2</td>\n      <td>1: PDO</td>\n      <td>0</td>\n    </tr>\n  </tbody>\n</table>\n</div>",
                        "text/plain": "   Stats Area             Suburb  Total Units  Day  Area Speed Position Type  \\\n0           2  HAMPSTEAD GARDENS            2    3          60    Cross Road   \n1           2          DRY CREEK            2    2          90  Divided Road   \n2           2           MILE END            2    2          60  Divided Road   \n3           2          PARALOWIE            2    2          50   Not Divided   \n4           2       MOUNT BARKER            2    2         110  Divided Road   \n\n   Weather Cond  DayNight CSEF Severity  Under Influence  \n0             0         1        1: PDO                0  \n1             0         2        1: PDO                0  \n2             0         2         2: MI                0  \n3             0         2         3: SI                0  \n4             0         2        1: PDO                0  "
                    },
                    "execution_count": 120,
                    "metadata": {},
                    "output_type": "execute_result"
                }
            ],
            "source": "df.head()"
        },
        {
            "cell_type": "code",
            "execution_count": 121,
            "metadata": {},
            "outputs": [
                {
                    "data": {
                        "text/html": "<div>\n<style scoped>\n    .dataframe tbody tr th:only-of-type {\n        vertical-align: middle;\n    }\n\n    .dataframe tbody tr th {\n        vertical-align: top;\n    }\n\n    .dataframe thead th {\n        text-align: right;\n    }\n</style>\n<table border=\"1\" class=\"dataframe\">\n  <thead>\n    <tr style=\"text-align: right;\">\n      <th></th>\n      <th>Stats Area</th>\n      <th>Total Units</th>\n      <th>Day</th>\n      <th>Area Speed</th>\n      <th>Position Type</th>\n      <th>Weather Cond</th>\n      <th>DayNight</th>\n      <th>CSEF Severity</th>\n      <th>Under Influence</th>\n    </tr>\n  </thead>\n  <tbody>\n    <tr>\n      <th>0</th>\n      <td>2</td>\n      <td>2</td>\n      <td>3</td>\n      <td>60</td>\n      <td>Cross Road</td>\n      <td>0</td>\n      <td>1</td>\n      <td>1: PDO</td>\n      <td>0</td>\n    </tr>\n    <tr>\n      <th>1</th>\n      <td>2</td>\n      <td>2</td>\n      <td>2</td>\n      <td>90</td>\n      <td>Divided Road</td>\n      <td>0</td>\n      <td>2</td>\n      <td>1: PDO</td>\n      <td>0</td>\n    </tr>\n    <tr>\n      <th>2</th>\n      <td>2</td>\n      <td>2</td>\n      <td>2</td>\n      <td>60</td>\n      <td>Divided Road</td>\n      <td>0</td>\n      <td>2</td>\n      <td>2: MI</td>\n      <td>0</td>\n    </tr>\n    <tr>\n      <th>3</th>\n      <td>2</td>\n      <td>2</td>\n      <td>2</td>\n      <td>50</td>\n      <td>Not Divided</td>\n      <td>0</td>\n      <td>2</td>\n      <td>3: SI</td>\n      <td>0</td>\n    </tr>\n    <tr>\n      <th>4</th>\n      <td>2</td>\n      <td>2</td>\n      <td>2</td>\n      <td>110</td>\n      <td>Divided Road</td>\n      <td>0</td>\n      <td>2</td>\n      <td>1: PDO</td>\n      <td>0</td>\n    </tr>\n  </tbody>\n</table>\n</div>",
                        "text/plain": "   Stats Area  Total Units  Day  Area Speed Position Type  Weather Cond  \\\n0           2            2    3          60    Cross Road             0   \n1           2            2    2          90  Divided Road             0   \n2           2            2    2          60  Divided Road             0   \n3           2            2    2          50   Not Divided             0   \n4           2            2    2         110  Divided Road             0   \n\n   DayNight CSEF Severity  Under Influence  \n0         1        1: PDO                0  \n1         2        1: PDO                0  \n2         2         2: MI                0  \n3         2         3: SI                0  \n4         2        1: PDO                0  "
                    },
                    "execution_count": 121,
                    "metadata": {},
                    "output_type": "execute_result"
                }
            ],
            "source": "#To facilitate this study I will drop the Suburb and in sequence use the hot encode to get dummies for the position type. \ndf.drop(['Suburb'], axis=1, inplace=True)\ndf.head()"
        },
        {
            "cell_type": "code",
            "execution_count": 123,
            "metadata": {},
            "outputs": [
                {
                    "data": {
                        "text/html": "<div>\n<style scoped>\n    .dataframe tbody tr th:only-of-type {\n        vertical-align: middle;\n    }\n\n    .dataframe tbody tr th {\n        vertical-align: top;\n    }\n\n    .dataframe thead th {\n        text-align: right;\n    }\n</style>\n<table border=\"1\" class=\"dataframe\">\n  <thead>\n    <tr style=\"text-align: right;\">\n      <th></th>\n      <th>Stats Area</th>\n      <th>Total Units</th>\n      <th>Day</th>\n      <th>Area Speed</th>\n      <th>Weather Cond</th>\n      <th>DayNight</th>\n      <th>Under Influence</th>\n      <th>Cross Road</th>\n      <th>Crossover</th>\n      <th>Divided Road</th>\n      <th>...</th>\n      <th>Not Divided</th>\n      <th>One Way</th>\n      <th>Other</th>\n      <th>Pedestrian Crossing</th>\n      <th>Rail Crossing</th>\n      <th>Rail Xing</th>\n      <th>Ramp Off</th>\n      <th>Ramp On</th>\n      <th>T-Junction</th>\n      <th>Y-Junction</th>\n    </tr>\n  </thead>\n  <tbody>\n    <tr>\n      <th>0</th>\n      <td>2</td>\n      <td>2</td>\n      <td>3</td>\n      <td>60</td>\n      <td>0</td>\n      <td>1</td>\n      <td>0</td>\n      <td>1</td>\n      <td>0</td>\n      <td>0</td>\n      <td>...</td>\n      <td>0</td>\n      <td>0</td>\n      <td>0</td>\n      <td>0</td>\n      <td>0</td>\n      <td>0</td>\n      <td>0</td>\n      <td>0</td>\n      <td>0</td>\n      <td>0</td>\n    </tr>\n    <tr>\n      <th>1</th>\n      <td>2</td>\n      <td>2</td>\n      <td>2</td>\n      <td>90</td>\n      <td>0</td>\n      <td>2</td>\n      <td>0</td>\n      <td>0</td>\n      <td>0</td>\n      <td>1</td>\n      <td>...</td>\n      <td>0</td>\n      <td>0</td>\n      <td>0</td>\n      <td>0</td>\n      <td>0</td>\n      <td>0</td>\n      <td>0</td>\n      <td>0</td>\n      <td>0</td>\n      <td>0</td>\n    </tr>\n    <tr>\n      <th>2</th>\n      <td>2</td>\n      <td>2</td>\n      <td>2</td>\n      <td>60</td>\n      <td>0</td>\n      <td>2</td>\n      <td>0</td>\n      <td>0</td>\n      <td>0</td>\n      <td>1</td>\n      <td>...</td>\n      <td>0</td>\n      <td>0</td>\n      <td>0</td>\n      <td>0</td>\n      <td>0</td>\n      <td>0</td>\n      <td>0</td>\n      <td>0</td>\n      <td>0</td>\n      <td>0</td>\n    </tr>\n    <tr>\n      <th>3</th>\n      <td>2</td>\n      <td>2</td>\n      <td>2</td>\n      <td>50</td>\n      <td>0</td>\n      <td>2</td>\n      <td>0</td>\n      <td>0</td>\n      <td>0</td>\n      <td>0</td>\n      <td>...</td>\n      <td>1</td>\n      <td>0</td>\n      <td>0</td>\n      <td>0</td>\n      <td>0</td>\n      <td>0</td>\n      <td>0</td>\n      <td>0</td>\n      <td>0</td>\n      <td>0</td>\n    </tr>\n    <tr>\n      <th>4</th>\n      <td>2</td>\n      <td>2</td>\n      <td>2</td>\n      <td>110</td>\n      <td>0</td>\n      <td>2</td>\n      <td>0</td>\n      <td>0</td>\n      <td>0</td>\n      <td>1</td>\n      <td>...</td>\n      <td>0</td>\n      <td>0</td>\n      <td>0</td>\n      <td>0</td>\n      <td>0</td>\n      <td>0</td>\n      <td>0</td>\n      <td>0</td>\n      <td>0</td>\n      <td>0</td>\n    </tr>\n  </tbody>\n</table>\n<p>5 rows \u00d7 23 columns</p>\n</div>",
                        "text/plain": "   Stats Area  Total Units  Day  Area Speed  Weather Cond  DayNight  \\\n0           2            2    3          60             0         1   \n1           2            2    2          90             0         2   \n2           2            2    2          60             0         2   \n3           2            2    2          50             0         2   \n4           2            2    2         110             0         2   \n\n   Under Influence  Cross Road  Crossover  Divided Road  ...  Not Divided  \\\n0                0           1          0             0  ...            0   \n1                0           0          0             1  ...            0   \n2                0           0          0             1  ...            0   \n3                0           0          0             0  ...            1   \n4                0           0          0             1  ...            0   \n\n   One Way  Other  Pedestrian Crossing  Rail Crossing  Rail Xing  Ramp Off  \\\n0        0      0                    0              0          0         0   \n1        0      0                    0              0          0         0   \n2        0      0                    0              0          0         0   \n3        0      0                    0              0          0         0   \n4        0      0                    0              0          0         0   \n\n   Ramp On  T-Junction  Y-Junction  \n0        0           0           0  \n1        0           0           0  \n2        0           0           0  \n3        0           0           0  \n4        0           0           0  \n\n[5 rows x 23 columns]"
                    },
                    "execution_count": 123,
                    "metadata": {},
                    "output_type": "execute_result"
                }
            ],
            "source": "Feature = df[['Stats Area','Total Units','Day','Area Speed','Weather Cond', 'DayNight', 'Under Influence']]\nFeature = pd.concat([Feature,pd.get_dummies(df['Position Type'])], axis=1)\nFeature.head()"
        },
        {
            "cell_type": "markdown",
            "metadata": {},
            "source": "Modelling"
        },
        {
            "cell_type": "code",
            "execution_count": 124,
            "metadata": {},
            "outputs": [
                {
                    "data": {
                        "text/html": "<div>\n<style scoped>\n    .dataframe tbody tr th:only-of-type {\n        vertical-align: middle;\n    }\n\n    .dataframe tbody tr th {\n        vertical-align: top;\n    }\n\n    .dataframe thead th {\n        text-align: right;\n    }\n</style>\n<table border=\"1\" class=\"dataframe\">\n  <thead>\n    <tr style=\"text-align: right;\">\n      <th></th>\n      <th>Stats Area</th>\n      <th>Total Units</th>\n      <th>Day</th>\n      <th>Area Speed</th>\n      <th>Weather Cond</th>\n      <th>DayNight</th>\n      <th>Under Influence</th>\n      <th>Cross Road</th>\n      <th>Crossover</th>\n      <th>Divided Road</th>\n      <th>...</th>\n      <th>Not Divided</th>\n      <th>One Way</th>\n      <th>Other</th>\n      <th>Pedestrian Crossing</th>\n      <th>Rail Crossing</th>\n      <th>Rail Xing</th>\n      <th>Ramp Off</th>\n      <th>Ramp On</th>\n      <th>T-Junction</th>\n      <th>Y-Junction</th>\n    </tr>\n  </thead>\n  <tbody>\n    <tr>\n      <th>0</th>\n      <td>2</td>\n      <td>2</td>\n      <td>3</td>\n      <td>60</td>\n      <td>0</td>\n      <td>1</td>\n      <td>0</td>\n      <td>1</td>\n      <td>0</td>\n      <td>0</td>\n      <td>...</td>\n      <td>0</td>\n      <td>0</td>\n      <td>0</td>\n      <td>0</td>\n      <td>0</td>\n      <td>0</td>\n      <td>0</td>\n      <td>0</td>\n      <td>0</td>\n      <td>0</td>\n    </tr>\n    <tr>\n      <th>1</th>\n      <td>2</td>\n      <td>2</td>\n      <td>2</td>\n      <td>90</td>\n      <td>0</td>\n      <td>2</td>\n      <td>0</td>\n      <td>0</td>\n      <td>0</td>\n      <td>1</td>\n      <td>...</td>\n      <td>0</td>\n      <td>0</td>\n      <td>0</td>\n      <td>0</td>\n      <td>0</td>\n      <td>0</td>\n      <td>0</td>\n      <td>0</td>\n      <td>0</td>\n      <td>0</td>\n    </tr>\n    <tr>\n      <th>2</th>\n      <td>2</td>\n      <td>2</td>\n      <td>2</td>\n      <td>60</td>\n      <td>0</td>\n      <td>2</td>\n      <td>0</td>\n      <td>0</td>\n      <td>0</td>\n      <td>1</td>\n      <td>...</td>\n      <td>0</td>\n      <td>0</td>\n      <td>0</td>\n      <td>0</td>\n      <td>0</td>\n      <td>0</td>\n      <td>0</td>\n      <td>0</td>\n      <td>0</td>\n      <td>0</td>\n    </tr>\n    <tr>\n      <th>3</th>\n      <td>2</td>\n      <td>2</td>\n      <td>2</td>\n      <td>50</td>\n      <td>0</td>\n      <td>2</td>\n      <td>0</td>\n      <td>0</td>\n      <td>0</td>\n      <td>0</td>\n      <td>...</td>\n      <td>1</td>\n      <td>0</td>\n      <td>0</td>\n      <td>0</td>\n      <td>0</td>\n      <td>0</td>\n      <td>0</td>\n      <td>0</td>\n      <td>0</td>\n      <td>0</td>\n    </tr>\n    <tr>\n      <th>4</th>\n      <td>2</td>\n      <td>2</td>\n      <td>2</td>\n      <td>110</td>\n      <td>0</td>\n      <td>2</td>\n      <td>0</td>\n      <td>0</td>\n      <td>0</td>\n      <td>1</td>\n      <td>...</td>\n      <td>0</td>\n      <td>0</td>\n      <td>0</td>\n      <td>0</td>\n      <td>0</td>\n      <td>0</td>\n      <td>0</td>\n      <td>0</td>\n      <td>0</td>\n      <td>0</td>\n    </tr>\n  </tbody>\n</table>\n<p>5 rows \u00d7 23 columns</p>\n</div>",
                        "text/plain": "   Stats Area  Total Units  Day  Area Speed  Weather Cond  DayNight  \\\n0           2            2    3          60             0         1   \n1           2            2    2          90             0         2   \n2           2            2    2          60             0         2   \n3           2            2    2          50             0         2   \n4           2            2    2         110             0         2   \n\n   Under Influence  Cross Road  Crossover  Divided Road  ...  Not Divided  \\\n0                0           1          0             0  ...            0   \n1                0           0          0             1  ...            0   \n2                0           0          0             1  ...            0   \n3                0           0          0             0  ...            1   \n4                0           0          0             1  ...            0   \n\n   One Way  Other  Pedestrian Crossing  Rail Crossing  Rail Xing  Ramp Off  \\\n0        0      0                    0              0          0         0   \n1        0      0                    0              0          0         0   \n2        0      0                    0              0          0         0   \n3        0      0                    0              0          0         0   \n4        0      0                    0              0          0         0   \n\n   Ramp On  T-Junction  Y-Junction  \n0        0           0           0  \n1        0           0           0  \n2        0           0           0  \n3        0           0           0  \n4        0           0           0  \n\n[5 rows x 23 columns]"
                    },
                    "execution_count": 124,
                    "metadata": {},
                    "output_type": "execute_result"
                }
            ],
            "source": "X = Feature\nX [0:5]"
        },
        {
            "cell_type": "code",
            "execution_count": 125,
            "metadata": {},
            "outputs": [
                {
                    "data": {
                        "text/plain": "array(['1: PDO', '1: PDO', '2: MI', '3: SI', '1: PDO'], dtype=object)"
                    },
                    "execution_count": 125,
                    "metadata": {},
                    "output_type": "execute_result"
                }
            ],
            "source": "Y = df['CSEF Severity'].values\nY[0:5]"
        },
        {
            "cell_type": "code",
            "execution_count": 126,
            "metadata": {},
            "outputs": [
                {
                    "name": "stderr",
                    "output_type": "stream",
                    "text": "/opt/conda/envs/Python36/lib/python3.6/site-packages/sklearn/preprocessing/data.py:645: DataConversionWarning: Data with input dtype uint8, int64 were all converted to float64 by StandardScaler.\n  return self.partial_fit(X, y)\n/opt/conda/envs/Python36/lib/python3.6/site-packages/ipykernel/__main__.py:2: DataConversionWarning: Data with input dtype uint8, int64 were all converted to float64 by StandardScaler.\n  from ipykernel import kernelapp as app\n"
                },
                {
                    "data": {
                        "text/plain": "array([[-0.17754928, -0.39035296, -0.40874307, -0.18987965, -0.26769289,\n        -0.55004911, -0.21423869,  1.8859218 , -0.01585704, -0.50329726,\n        -0.10934462, -0.03172605, -0.09421513, -0.66129556, -0.05103318,\n        -0.03427093, -0.05725983, -0.0399328 , -0.03427093, -0.03037411,\n        -0.02047307, -0.56283436, -0.02422609],\n       [-0.17754928, -0.39035296, -0.94507509,  1.6969012 , -0.26769289,\n         1.81801947, -0.21423869, -0.53024468, -0.01585704,  1.98689738,\n        -0.10934462, -0.03172605, -0.09421513, -0.66129556, -0.05103318,\n        -0.03427093, -0.05725983, -0.0399328 , -0.03427093, -0.03037411,\n        -0.02047307, -0.56283436, -0.02422609],\n       [-0.17754928, -0.39035296, -0.94507509, -0.18987965, -0.26769289,\n         1.81801947, -0.21423869, -0.53024468, -0.01585704,  1.98689738,\n        -0.10934462, -0.03172605, -0.09421513, -0.66129556, -0.05103318,\n        -0.03427093, -0.05725983, -0.0399328 , -0.03427093, -0.03037411,\n        -0.02047307, -0.56283436, -0.02422609],\n       [-0.17754928, -0.39035296, -0.94507509, -0.81880661, -0.26769289,\n         1.81801947, -0.21423869, -0.53024468, -0.01585704, -0.50329726,\n        -0.10934462, -0.03172605, -0.09421513,  1.51218315, -0.05103318,\n        -0.03427093, -0.05725983, -0.0399328 , -0.03427093, -0.03037411,\n        -0.02047307, -0.56283436, -0.02422609],\n       [-0.17754928, -0.39035296, -0.94507509,  2.9547551 , -0.26769289,\n         1.81801947, -0.21423869, -0.53024468, -0.01585704,  1.98689738,\n        -0.10934462, -0.03172605, -0.09421513, -0.66129556, -0.05103318,\n        -0.03427093, -0.05725983, -0.0399328 , -0.03427093, -0.03037411,\n        -0.02047307, -0.56283436, -0.02422609]])"
                    },
                    "execution_count": 126,
                    "metadata": {},
                    "output_type": "execute_result"
                }
            ],
            "source": "#Normalize Data\nX= preprocessing.StandardScaler().fit(X).transform(X)\nX[0:5]"
        },
        {
            "cell_type": "code",
            "execution_count": 128,
            "metadata": {},
            "outputs": [
                {
                    "data": {
                        "text/plain": "Stats Area             int64\nTotal Units            int64\nDay                    int64\nArea Speed             int64\nWeather Cond           int64\nDayNight               int64\nUnder Influence        int64\nCross Road             uint8\nCrossover              uint8\nDivided Road           uint8\nFreeway                uint8\nInterchange            uint8\nMultiple               uint8\nNot Divided            uint8\nOne Way                uint8\nOther                  uint8\nPedestrian Crossing    uint8\nRail Crossing          uint8\nRail Xing              uint8\nRamp Off               uint8\nRamp On                uint8\nT-Junction             uint8\nY-Junction             uint8\ndtype: object"
                    },
                    "execution_count": 128,
                    "metadata": {},
                    "output_type": "execute_result"
                }
            ],
            "source": "#Fitting Decision Tree Model. First check X labels to make sure they are all numerical values\nFeature.dtypes"
        },
        {
            "cell_type": "code",
            "execution_count": 142,
            "metadata": {},
            "outputs": [
                {
                    "name": "stdout",
                    "output_type": "stream",
                    "text": "Train set: (8353, 23) (8353,)\nTest set: (3581, 23) (3581,)\n"
                }
            ],
            "source": "#Train_Test_Split for Decision Tree Modelling\nX_DTtrain, X_DTtest, Y_DTtrain, Y_DTtest = train_test_split( X, Y, test_size=0.3, random_state=7)\nprint ('Train set:', X_DTtrain.shape,  Y_DTtrain.shape)\nprint ('Test set:', X_DTtest.shape,  Y_DTtest.shape)"
        },
        {
            "cell_type": "code",
            "execution_count": 143,
            "metadata": {},
            "outputs": [
                {
                    "data": {
                        "text/plain": "DecisionTreeClassifier(class_weight=None, criterion='entropy', max_depth=7,\n            max_features=None, max_leaf_nodes=None,\n            min_impurity_decrease=0.0, min_impurity_split=None,\n            min_samples_leaf=1, min_samples_split=2,\n            min_weight_fraction_leaf=0.0, presort=False, random_state=None,\n            splitter='best')"
                    },
                    "execution_count": 143,
                    "metadata": {},
                    "output_type": "execute_result"
                }
            ],
            "source": "#Modelling\nCSEFSeverity_Model = DecisionTreeClassifier(criterion=\"entropy\", max_depth = 7)\nCSEFSeverity_Model\nCSEFSeverity_Model.fit(X_DTtrain,Y_DTtrain)"
        },
        {
            "cell_type": "code",
            "execution_count": 144,
            "metadata": {},
            "outputs": [
                {
                    "name": "stdout",
                    "output_type": "stream",
                    "text": "['1: PDO' '1: PDO' '1: PDO' '1: PDO' '1: PDO' '1: PDO' '1: PDO' '1: PDO'\n '1: PDO' '1: PDO' '1: PDO' '1: PDO' '1: PDO' '1: PDO' '1: PDO']\n['1: PDO' '1: PDO' '2: MI' '1: PDO' '1: PDO' '1: PDO' '2: MI' '1: PDO'\n '1: PDO' '1: PDO' '2: MI' '4: Fatal' '1: PDO' '1: PDO' '1: PDO']\n"
                }
            ],
            "source": "PredTree = CSEFSeverity_Model.predict(X_DTtest)\nprint (PredTree [0:15])\nprint (Y_DTtest [0:15])"
        },
        {
            "cell_type": "code",
            "execution_count": 145,
            "metadata": {},
            "outputs": [
                {
                    "name": "stdout",
                    "output_type": "stream",
                    "text": "DecisionTrees's Accuracy:  0.6411616866796984\n"
                }
            ],
            "source": "print(\"DecisionTrees's Accuracy: \", metrics.accuracy_score(Y_DTtest, PredTree))"
        },
        {
            "cell_type": "markdown",
            "metadata": {},
            "source": "Checking Metrics for Decision Tree Accuracy"
        },
        {
            "cell_type": "code",
            "execution_count": 146,
            "metadata": {},
            "outputs": [
                {
                    "data": {
                        "text/plain": "0.6411616866796984"
                    },
                    "execution_count": 146,
                    "metadata": {},
                    "output_type": "execute_result"
                }
            ],
            "source": "#Jaccard Similarity\njaccard_similarity_score(Y_DTtest, PredTree)"
        },
        {
            "cell_type": "code",
            "execution_count": 147,
            "metadata": {},
            "outputs": [
                {
                    "data": {
                        "text/plain": "0.5322540332331853"
                    },
                    "execution_count": 147,
                    "metadata": {},
                    "output_type": "execute_result"
                }
            ],
            "source": "#Determine F1 score for Decision Tree model\nf1_score(Y_DTtest, PredTree, average='weighted') "
        }
    ],
    "metadata": {
        "kernelspec": {
            "display_name": "Python 3.6",
            "language": "python",
            "name": "python3"
        },
        "language_info": {
            "codemirror_mode": {
                "name": "ipython",
                "version": 3
            },
            "file_extension": ".py",
            "mimetype": "text/x-python",
            "name": "python",
            "nbconvert_exporter": "python",
            "pygments_lexer": "ipython3",
            "version": "3.6.9"
        }
    },
    "nbformat": 4,
    "nbformat_minor": 1
}
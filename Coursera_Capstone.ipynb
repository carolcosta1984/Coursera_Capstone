{
    "cells": [
        {
            "cell_type": "markdown",
            "metadata": {
                "collapsed": true
            },
            "source": "This notebook will be mainly used for the Capstone Project for the final module of the IBM Data Science Professional Certificate."
        },
        {
            "cell_type": "code",
            "execution_count": 1,
            "metadata": {},
            "outputs": [],
            "source": "import pandas as pd"
        },
        {
            "cell_type": "code",
            "execution_count": 2,
            "metadata": {},
            "outputs": [],
            "source": "import numpy as np"
        },
        {
            "cell_type": "code",
            "execution_count": 4,
            "metadata": {},
            "outputs": [
                {
                    "name": "stdout",
                    "output_type": "stream",
                    "text": "Hello Capstone Project Course!\n"
                }
            ],
            "source": "print (\"Hello Capstone Project Course!\")"
        },
        {
            "cell_type": "code",
            "execution_count": 4,
            "metadata": {},
            "outputs": [
                {
                    "data": {
                        "text/html": "<div>\n<style scoped>\n    .dataframe tbody tr th:only-of-type {\n        vertical-align: middle;\n    }\n\n    .dataframe tbody tr th {\n        vertical-align: top;\n    }\n\n    .dataframe thead th {\n        text-align: right;\n    }\n</style>\n<table border=\"1\" class=\"dataframe\">\n  <thead>\n    <tr style=\"text-align: right;\">\n      <th></th>\n      <th>REPORT_ID</th>\n      <th>Stats Area</th>\n      <th>Suburb</th>\n      <th>Postcode</th>\n      <th>LGA Name</th>\n      <th>Total Units</th>\n      <th>Total Cas</th>\n      <th>Total Fats</th>\n      <th>Total SI</th>\n      <th>Total MI</th>\n      <th>...</th>\n      <th>Crash Type</th>\n      <th>Unit Resp</th>\n      <th>Entity Code</th>\n      <th>CSEF Severity</th>\n      <th>Traffic Ctrls</th>\n      <th>DUI Involved</th>\n      <th>Drugs Involved</th>\n      <th>ACCLOC_X</th>\n      <th>ACCLOC_Y</th>\n      <th>UNIQUE_LOC</th>\n    </tr>\n  </thead>\n  <tbody>\n    <tr>\n      <th>0</th>\n      <td>2019-1-8/07/2020</td>\n      <td>2 Metropolitan</td>\n      <td>HAMPSTEAD GARDENS</td>\n      <td>5086</td>\n      <td>CITY OF PORT ADELAIDE ENFIELD</td>\n      <td>2</td>\n      <td>0</td>\n      <td>0</td>\n      <td>0</td>\n      <td>0</td>\n      <td>...</td>\n      <td>Right Angle</td>\n      <td>1</td>\n      <td>Driver Rider</td>\n      <td>1: PDO</td>\n      <td>Give Way Sign</td>\n      <td>NaN</td>\n      <td>NaN</td>\n      <td>1331810.03</td>\n      <td>1676603.26</td>\n      <td>13318101676603</td>\n    </tr>\n    <tr>\n      <th>1</th>\n      <td>2019-2-8/07/2020</td>\n      <td>2 Metropolitan</td>\n      <td>DRY CREEK</td>\n      <td>5094</td>\n      <td>CITY OF SALISBURY</td>\n      <td>2</td>\n      <td>0</td>\n      <td>0</td>\n      <td>0</td>\n      <td>0</td>\n      <td>...</td>\n      <td>Rear End</td>\n      <td>2</td>\n      <td>Driver Rider</td>\n      <td>1: PDO</td>\n      <td>No Control</td>\n      <td>NaN</td>\n      <td>NaN</td>\n      <td>1328376.20</td>\n      <td>1682942.63</td>\n      <td>13283761682943</td>\n    </tr>\n    <tr>\n      <th>2</th>\n      <td>2019-3-8/07/2020</td>\n      <td>2 Metropolitan</td>\n      <td>MILE END</td>\n      <td>5031</td>\n      <td>CITY OF WEST TORRENS</td>\n      <td>2</td>\n      <td>1</td>\n      <td>0</td>\n      <td>0</td>\n      <td>1</td>\n      <td>...</td>\n      <td>Hit Pedestrian</td>\n      <td>1</td>\n      <td>Driver Rider</td>\n      <td>2: MI</td>\n      <td>No Control</td>\n      <td>NaN</td>\n      <td>NaN</td>\n      <td>1325819.68</td>\n      <td>1670994.26</td>\n      <td>13258201670994</td>\n    </tr>\n    <tr>\n      <th>3</th>\n      <td>2019-4-8/07/2020</td>\n      <td>2 Metropolitan</td>\n      <td>PARALOWIE</td>\n      <td>5108</td>\n      <td>CITY OF SALISBURY</td>\n      <td>2</td>\n      <td>1</td>\n      <td>0</td>\n      <td>1</td>\n      <td>0</td>\n      <td>...</td>\n      <td>Hit Fixed Object</td>\n      <td>1</td>\n      <td>Driver Rider</td>\n      <td>3: SI</td>\n      <td>No Control</td>\n      <td>NaN</td>\n      <td>NaN</td>\n      <td>1328320.60</td>\n      <td>1690237.08</td>\n      <td>13283211690237</td>\n    </tr>\n    <tr>\n      <th>4</th>\n      <td>2019-5-8/07/2020</td>\n      <td>2 Metropolitan</td>\n      <td>MOUNT BARKER</td>\n      <td>5251</td>\n      <td>DC MT.BARKER.</td>\n      <td>2</td>\n      <td>0</td>\n      <td>0</td>\n      <td>0</td>\n      <td>0</td>\n      <td>...</td>\n      <td>Hit Animal</td>\n      <td>2</td>\n      <td>Animal</td>\n      <td>1: PDO</td>\n      <td>No Control</td>\n      <td>NaN</td>\n      <td>NaN</td>\n      <td>1353279.99</td>\n      <td>1655645.15</td>\n      <td>13532801655645</td>\n    </tr>\n  </tbody>\n</table>\n<p>5 rows \u00d7 33 columns</p>\n</div>",
                        "text/plain": "          REPORT_ID      Stats Area             Suburb  Postcode  \\\n0  2019-1-8/07/2020  2 Metropolitan  HAMPSTEAD GARDENS      5086   \n1  2019-2-8/07/2020  2 Metropolitan          DRY CREEK      5094   \n2  2019-3-8/07/2020  2 Metropolitan           MILE END      5031   \n3  2019-4-8/07/2020  2 Metropolitan          PARALOWIE      5108   \n4  2019-5-8/07/2020  2 Metropolitan       MOUNT BARKER      5251   \n\n                         LGA Name  Total Units  Total Cas  Total Fats  \\\n0   CITY OF PORT ADELAIDE ENFIELD            2          0           0   \n1               CITY OF SALISBURY            2          0           0   \n2            CITY OF WEST TORRENS            2          1           0   \n3               CITY OF SALISBURY            2          1           0   \n4  DC MT.BARKER.                             2          0           0   \n\n   Total SI  Total MI  ...        Crash Type Unit Resp   Entity Code  \\\n0         0         0  ...       Right Angle         1  Driver Rider   \n1         0         0  ...          Rear End         2  Driver Rider   \n2         0         1  ...    Hit Pedestrian         1  Driver Rider   \n3         1         0  ...  Hit Fixed Object         1  Driver Rider   \n4         0         0  ...        Hit Animal         2        Animal   \n\n  CSEF Severity  Traffic Ctrls DUI Involved Drugs Involved    ACCLOC_X  \\\n0        1: PDO  Give Way Sign          NaN            NaN  1331810.03   \n1        1: PDO     No Control          NaN            NaN  1328376.20   \n2         2: MI     No Control          NaN            NaN  1325819.68   \n3         3: SI     No Control          NaN            NaN  1328320.60   \n4        1: PDO     No Control          NaN            NaN  1353279.99   \n\n     ACCLOC_Y      UNIQUE_LOC  \n0  1676603.26  13318101676603  \n1  1682942.63  13283761682943  \n2  1670994.26  13258201670994  \n3  1690237.08  13283211690237  \n4  1655645.15  13532801655645  \n\n[5 rows x 33 columns]"
                    },
                    "execution_count": 4,
                    "metadata": {},
                    "output_type": "execute_result"
                }
            ],
            "source": "# The code was removed by Watson Studio for sharing."
        },
        {
            "cell_type": "code",
            "execution_count": 8,
            "metadata": {},
            "outputs": [
                {
                    "name": "stdout",
                    "output_type": "stream",
                    "text": "<class 'pandas.core.frame.DataFrame'>\nRangeIndex: 12964 entries, 0 to 12963\nData columns (total 33 columns):\nREPORT_ID           12964 non-null object\nStats Area          12964 non-null object\nSuburb              12964 non-null object\nPostcode            12964 non-null int64\nLGA Name            12857 non-null object\nTotal Units         12964 non-null int64\nTotal Cas           12964 non-null int64\nTotal Fats          12964 non-null int64\nTotal SI            12964 non-null int64\nTotal MI            12964 non-null int64\nYear                12964 non-null int64\nMonth               12964 non-null object\nDay                 12964 non-null object\nTime                12964 non-null object\nArea Speed          12964 non-null int64\nPosition Type       12964 non-null object\nHorizontal Align    12964 non-null object\nVertical Align      12964 non-null object\nOther Feat          12964 non-null object\nRoad Surface        12964 non-null object\nMoisture Cond       12964 non-null object\nWeather Cond        12964 non-null object\nDayNight            12964 non-null object\nCrash Type          12964 non-null object\nUnit Resp           12964 non-null int64\nEntity Code         12964 non-null object\nCSEF Severity       12964 non-null object\nTraffic Ctrls       12964 non-null object\nDUI Involved        349 non-null object\nDrugs Involved      314 non-null object\nACCLOC_X            12964 non-null float64\nACCLOC_Y            12964 non-null float64\nUNIQUE_LOC          12964 non-null int64\ndtypes: float64(2), int64(10), object(21)\nmemory usage: 3.3+ MB\n"
                }
            ],
            "source": "df_data_1.info()"
        },
        {
            "cell_type": "code",
            "execution_count": null,
            "metadata": {},
            "outputs": [],
            "source": ""
        }
    ],
    "metadata": {
        "kernelspec": {
            "display_name": "Python 3.6",
            "language": "python",
            "name": "python3"
        },
        "language_info": {
            "codemirror_mode": {
                "name": "ipython",
                "version": 3
            },
            "file_extension": ".py",
            "mimetype": "text/x-python",
            "name": "python",
            "nbconvert_exporter": "python",
            "pygments_lexer": "ipython3",
            "version": "3.6.9"
        }
    },
    "nbformat": 4,
    "nbformat_minor": 1
}
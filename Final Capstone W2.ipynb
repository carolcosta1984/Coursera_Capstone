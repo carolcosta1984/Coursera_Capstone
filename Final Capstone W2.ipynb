{
    "cells": [
        {
            "cell_type": "markdown",
            "metadata": {
                "collapsed": true
            },
            "source": "<b>Install required dependencies and libraries</b>"
        },
        {
            "cell_type": "code",
            "execution_count": 1,
            "metadata": {},
            "outputs": [
                {
                    "name": "stdout",
                    "output_type": "stream",
                    "text": "Requirement already satisfied: lxml in /opt/conda/envs/Python-3.7-main/lib/python3.7/site-packages (4.5.1)\nRequirement already satisfied: html5lib in /opt/conda/envs/Python-3.7-main/lib/python3.7/site-packages (1.1)\nRequirement already satisfied: beautifulsoup4 in /opt/conda/envs/Python-3.7-main/lib/python3.7/site-packages (4.9.1)\nRequirement already satisfied: webencodings in /opt/conda/envs/Python-3.7-main/lib/python3.7/site-packages (from html5lib) (0.5.1)\nRequirement already satisfied: six>=1.9 in /opt/conda/envs/Python-3.7-main/lib/python3.7/site-packages (from html5lib) (1.15.0)\nRequirement already satisfied: soupsieve>1.2 in /opt/conda/envs/Python-3.7-main/lib/python3.7/site-packages (from beautifulsoup4) (2.0.1)\n"
                }
            ],
            "source": "! pip install lxml html5lib beautifulsoup4"
        },
        {
            "cell_type": "code",
            "execution_count": 2,
            "metadata": {},
            "outputs": [],
            "source": "import pandas as pd\nimport numpy as np"
        },
        {
            "cell_type": "markdown",
            "metadata": {},
            "source": "<b>Extract Data Table from URL</b>"
        },
        {
            "cell_type": "code",
            "execution_count": 3,
            "metadata": {},
            "outputs": [
                {
                    "name": "stdout",
                    "output_type": "stream",
                    "text": "    Postal Code           Borough  \\\n0           M1A      Not assigned   \n1           M2A      Not assigned   \n2           M3A        North York   \n3           M4A        North York   \n4           M5A  Downtown Toronto   \n..          ...               ...   \n175         M5Z      Not assigned   \n176         M6Z      Not assigned   \n177         M7Z      Not assigned   \n178         M8Z         Etobicoke   \n179         M9Z      Not assigned   \n\n                                         Neighbourhood  \n0                                         Not assigned  \n1                                         Not assigned  \n2                                            Parkwoods  \n3                                     Victoria Village  \n4                            Regent Park, Harbourfront  \n..                                                 ...  \n175                                       Not assigned  \n176                                       Not assigned  \n177                                       Not assigned  \n178  Mimico NW, The Queensway West, South of Bloor,...  \n179                                       Not assigned  \n\n[180 rows x 3 columns]\n"
                }
            ],
            "source": "#Webpage URL\nurl='https://en.wikipedia.org/wiki/List_of_postal_codes_of_Canada:_M'\n\n#Extract Tables\ndfs = pd.read_html(url)\n\n#Get the first table\ndf=dfs[0]\n\n#Extract Columns\ndfYTO = df[['Postal Code','Borough', 'Neighbourhood']]\nprint(dfYTO)        "
        },
        {
            "cell_type": "code",
            "execution_count": 4,
            "metadata": {},
            "outputs": [
                {
                    "data": {
                        "text/html": "<div>\n<style scoped>\n    .dataframe tbody tr th:only-of-type {\n        vertical-align: middle;\n    }\n\n    .dataframe tbody tr th {\n        vertical-align: top;\n    }\n\n    .dataframe thead th {\n        text-align: right;\n    }\n</style>\n<table border=\"1\" class=\"dataframe\">\n  <thead>\n    <tr style=\"text-align: right;\">\n      <th></th>\n      <th>Postal Code</th>\n      <th>Borough</th>\n      <th>Neighbourhood</th>\n    </tr>\n  </thead>\n  <tbody>\n    <tr>\n      <th>0</th>\n      <td>M1A</td>\n      <td>Not assigned</td>\n      <td>Not assigned</td>\n    </tr>\n    <tr>\n      <th>1</th>\n      <td>M2A</td>\n      <td>Not assigned</td>\n      <td>Not assigned</td>\n    </tr>\n    <tr>\n      <th>2</th>\n      <td>M3A</td>\n      <td>North York</td>\n      <td>Parkwoods</td>\n    </tr>\n    <tr>\n      <th>3</th>\n      <td>M4A</td>\n      <td>North York</td>\n      <td>Victoria Village</td>\n    </tr>\n    <tr>\n      <th>4</th>\n      <td>M5A</td>\n      <td>Downtown Toronto</td>\n      <td>Regent Park, Harbourfront</td>\n    </tr>\n  </tbody>\n</table>\n</div>",
                        "text/plain": "  Postal Code           Borough              Neighbourhood\n0         M1A      Not assigned               Not assigned\n1         M2A      Not assigned               Not assigned\n2         M3A        North York                  Parkwoods\n3         M4A        North York           Victoria Village\n4         M5A  Downtown Toronto  Regent Park, Harbourfront"
                    },
                    "execution_count": 4,
                    "metadata": {},
                    "output_type": "execute_result"
                }
            ],
            "source": "#Check initial entries:\ndfYTO.head()"
        },
        {
            "cell_type": "code",
            "execution_count": 5,
            "metadata": {},
            "outputs": [],
            "source": "#Drop the Borough Rows showing 'Not Assigned'  and save as a new data frame\ndfYTO1 = dfYTO[dfYTO.Borough != 'Not assigned']"
        },
        {
            "cell_type": "code",
            "execution_count": 10,
            "metadata": {},
            "outputs": [
                {
                    "data": {
                        "text/html": "<div>\n<style scoped>\n    .dataframe tbody tr th:only-of-type {\n        vertical-align: middle;\n    }\n\n    .dataframe tbody tr th {\n        vertical-align: top;\n    }\n\n    .dataframe thead th {\n        text-align: right;\n    }\n</style>\n<table border=\"1\" class=\"dataframe\">\n  <thead>\n    <tr style=\"text-align: right;\">\n      <th></th>\n      <th>Postal Code</th>\n      <th>Borough</th>\n      <th>Neighbourhood</th>\n    </tr>\n  </thead>\n  <tbody>\n    <tr>\n      <th>2</th>\n      <td>M3A</td>\n      <td>North York</td>\n      <td>Parkwoods</td>\n    </tr>\n    <tr>\n      <th>3</th>\n      <td>M4A</td>\n      <td>North York</td>\n      <td>Victoria Village</td>\n    </tr>\n    <tr>\n      <th>4</th>\n      <td>M5A</td>\n      <td>Downtown Toronto</td>\n      <td>Regent Park, Harbourfront</td>\n    </tr>\n    <tr>\n      <th>5</th>\n      <td>M6A</td>\n      <td>North York</td>\n      <td>Lawrence Manor, Lawrence Heights</td>\n    </tr>\n    <tr>\n      <th>6</th>\n      <td>M7A</td>\n      <td>Downtown Toronto</td>\n      <td>Queen's Park, Ontario Provincial Government</td>\n    </tr>\n  </tbody>\n</table>\n</div>",
                        "text/plain": "  Postal Code           Borough                                Neighbourhood\n2         M3A        North York                                    Parkwoods\n3         M4A        North York                             Victoria Village\n4         M5A  Downtown Toronto                    Regent Park, Harbourfront\n5         M6A        North York             Lawrence Manor, Lawrence Heights\n6         M7A  Downtown Toronto  Queen's Park, Ontario Provincial Government"
                    },
                    "execution_count": 10,
                    "metadata": {},
                    "output_type": "execute_result"
                }
            ],
            "source": "dfYTO1.head()"
        },
        {
            "cell_type": "markdown",
            "metadata": {},
            "source": "<b>I have used the duplicated function to find out if there was any duplicated Postal Code in the dataframe:</b>"
        },
        {
            "cell_type": "code",
            "execution_count": 11,
            "metadata": {},
            "outputs": [],
            "source": "#Command to generate a Dupe Dataframe only for the column Postal Code\nPCdupe=dfYTO1['Postal Code'].duplicated()"
        },
        {
            "cell_type": "code",
            "execution_count": 12,
            "metadata": {},
            "outputs": [
                {
                    "data": {
                        "text/plain": "2    False\n3    False\n4    False\n5    False\n6    False\nName: Postal Code, dtype: bool"
                    },
                    "execution_count": 12,
                    "metadata": {},
                    "output_type": "execute_result"
                }
            ],
            "source": "#Check the PCdupe dataframe: \nPCdupe.head()"
        },
        {
            "cell_type": "code",
            "execution_count": 13,
            "metadata": {},
            "outputs": [
                {
                    "data": {
                        "text/plain": "False    103\nName: Postal Code, dtype: int64"
                    },
                    "execution_count": 13,
                    "metadata": {},
                    "output_type": "execute_result"
                }
            ],
            "source": "#I will also do a value count, only values showing as True would be duplicated: \nPCdupe.value_counts()"
        },
        {
            "cell_type": "markdown",
            "metadata": {},
            "source": "My finding after the counting and the duplicated function, indicates that there are not duplicated postal codes on the main dataframe dfYTO1. "
        },
        {
            "cell_type": "markdown",
            "metadata": {},
            "source": "<b>Now, I will look for any <i>Not assigned</i> variables in the Neighbourhood column.</b>"
        },
        {
            "cell_type": "code",
            "execution_count": 14,
            "metadata": {},
            "outputs": [],
            "source": "#Use .loc function look up for any not assigned variables: \ndfnhood=dfYTO1.loc[dfYTO1['Neighbourhood']=='Not assigned']"
        },
        {
            "cell_type": "code",
            "execution_count": 15,
            "metadata": {},
            "outputs": [
                {
                    "data": {
                        "text/html": "<div>\n<style scoped>\n    .dataframe tbody tr th:only-of-type {\n        vertical-align: middle;\n    }\n\n    .dataframe tbody tr th {\n        vertical-align: top;\n    }\n\n    .dataframe thead th {\n        text-align: right;\n    }\n</style>\n<table border=\"1\" class=\"dataframe\">\n  <thead>\n    <tr style=\"text-align: right;\">\n      <th></th>\n      <th>Postal Code</th>\n      <th>Borough</th>\n      <th>Neighbourhood</th>\n    </tr>\n  </thead>\n  <tbody>\n  </tbody>\n</table>\n</div>",
                        "text/plain": "Empty DataFrame\nColumns: [Postal Code, Borough, Neighbourhood]\nIndex: []"
                    },
                    "execution_count": 15,
                    "metadata": {},
                    "output_type": "execute_result"
                }
            ],
            "source": "dfnhood"
        },
        {
            "cell_type": "markdown",
            "metadata": {},
            "source": "As per the above there are no cells showing as Not Assigned in the current dfYTO1 dataframe."
        },
        {
            "cell_type": "code",
            "execution_count": 17,
            "metadata": {},
            "outputs": [
                {
                    "data": {
                        "text/plain": "(103, 3)"
                    },
                    "execution_count": 17,
                    "metadata": {},
                    "output_type": "execute_result"
                }
            ],
            "source": "#shows the shape of my dataframe as it stands now: \ndfYTO1.shape"
        },
        {
            "cell_type": "markdown",
            "metadata": {},
            "source": "After the initial data processing. I have 103 rows and 3 columns."
        },
        {
            "cell_type": "code",
            "execution_count": null,
            "metadata": {},
            "outputs": [],
            "source": ""
        }
    ],
    "metadata": {
        "kernelspec": {
            "display_name": "Python 3.7",
            "language": "python",
            "name": "python3"
        },
        "language_info": {
            "codemirror_mode": {
                "name": "ipython",
                "version": 3
            },
            "file_extension": ".py",
            "mimetype": "text/x-python",
            "name": "python",
            "nbconvert_exporter": "python",
            "pygments_lexer": "ipython3",
            "version": "3.7.9"
        }
    },
    "nbformat": 4,
    "nbformat_minor": 1
}